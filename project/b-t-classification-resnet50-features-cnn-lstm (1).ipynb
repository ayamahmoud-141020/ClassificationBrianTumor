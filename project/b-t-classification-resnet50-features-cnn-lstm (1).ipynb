{
 "cells": [
  {
   "cell_type": "code",
   "execution_count": null,
   "metadata": {
    "_cell_guid": "b1076dfc-b9ad-4769-8c92-a6c4dae69d19",
    "_uuid": "8f2839f25d086af736a60e9eeb907d3b93b6e0e5",
    "execution": {
     "iopub.execute_input": "2023-12-12T22:46:32.311622Z",
     "iopub.status.busy": "2023-12-12T22:46:32.310450Z",
     "iopub.status.idle": "2023-12-12T22:46:33.569792Z",
     "shell.execute_reply": "2023-12-12T22:46:33.569140Z",
     "shell.execute_reply.started": "2023-12-12T22:46:32.311537Z"
    }
   },
   "outputs": [],
   "source": [
    "# This Python 3 environment comes with many helpful analytics libraries installed\n",
    "# It is defined by the kaggle/python Docker image: https://github.com/kaggle/docker-python\n",
    "# For example, here's several helpful packages to load\n",
    "\n",
    "import numpy as np # linear algebra\n",
    "import pandas as pd # data processing, CSV file I/O (e.g. pd.read_csv)\n",
    "\n",
    "# Input data files are available in the read-only \"../input/\" directory\n",
    "# For example, running this (by clicking run or pressing Shift+Enter) will list all files under the input directory\n",
    "\n",
    "import os\n",
    "for dirname, _, filenames in os.walk('/kaggle/input'):\n",
    "    for filename in filenames:\n",
    "        print(os.path.join(dirname, filename))\n",
    "\n",
    "# You can write up to 20GB to the current directory (/kaggle/working/) that gets preserved as output when you create a version using \"Save & Run All\" \n",
    "# You can also write temporary files to /kaggle/temp/, but they won't be saved outside of the current session"
   ]
  },
  {
   "cell_type": "markdown",
   "metadata": {},
   "source": [
    "# **Install packages**"
   ]
  },
  {
   "cell_type": "markdown",
   "metadata": {
    "execution": {
     "iopub.execute_input": "2023-12-12T22:48:37.431164Z",
     "iopub.status.busy": "2023-12-12T22:48:37.430712Z",
     "iopub.status.idle": "2023-12-12T22:49:38.292979Z",
     "shell.execute_reply": "2023-12-12T22:49:38.290280Z",
     "shell.execute_reply.started": "2023-12-12T22:48:37.431135Z"
    }
   },
   "source": [
    "# !pip install tensorflow -U"
   ]
  },
  {
   "cell_type": "markdown",
   "metadata": {},
   "source": [
    "# **Abstract work**"
   ]
  },
  {
   "cell_type": "markdown",
   "metadata": {},
   "source": [
    "Abstract A brain tumor denotes an anomalous mass or collection of cells that develops within the brain. We have considered about the three categories of brain tumors among the various 120 categories namely Glioma, Meningioma and Pituitary along with No Tumor. Automated classification of different brain tumor categories using Magnetic Resonance Imaging (MRI) brain scans is this paper's unique approach.\n",
    "Project Definition: Brain Cancer Classification System Using a Fusion of CNN and LSTM Layers\n",
    "\n",
    "### Background:\n",
    "\n",
    "Brain cancer is a prevalent and critical health issue requiring precise diagnostic tools for effective treatment planning. This project focuses on designing a classification system that combines Convolutional Neural Network (CNN) and Long Short-Term Memory (LSTM) layers to analyze medical images and identify signs of brain cancer.\n",
    "\n",
    "### Objective:\n",
    "\n",
    "The primary objective of this project is to develop a sophisticated classification system for medical images of the brain. The integration of CNN and LSTM layers aims to enhance the accuracy of brain cancer detection, providing valuable support to healthcare professionals in their decision-making processes.\n",
    "\n",
    "### Expected Steps:\n",
    "\n",
    "1. Data Collection:\n",
    "   - Utilize the Kaggle dataset named \"Brain Tumor Classification (MRI)\" to obtain labeled medical images showcasing various aspects of brain anatomy, with a specific focus on cancerous regions.\n",
    "\n",
    "2. Image Processing:\n",
    "   - Preprocess the images, including resizing and normalization, to prepare them for input into the CNN-LSTM model.\n",
    "\n",
    "3. Model Architecture:\n",
    "   - Construct a hybrid model featuring CNN layers to capture spatial features and LSTM layers for analyzing temporal patterns in the data. Utilize a pre-trained ResNet architecture for the CNN component.\n",
    "\n",
    "4. Training and Validation:\n",
    "   - Train the model using the labeled dataset, employing techniques like transfer learning for the ResNet component. Validate the model's performance on a separate validation dataset.\n",
    "\n",
    "5. Hyperparameter Tuning:\n",
    "   - Optimize hyperparameters and fine-tune the model for improved classification accuracy.\n",
    "\n",
    "6. Evaluation Metrics:\n",
    "   - Assess the model's performance using metrics such as accuracy, precision, recall, and F1 score.\n",
    "\n",
    "7. Integration and Deployment:\n",
    "   - Integrate the trained model into a user-friendly system that can be utilized by medical professionals for brain cancer classification.\n",
    "\n",
    "### Technologies Used:\n",
    "\n",
    "- Convolutional Neural Network (CNN) with ResNet architecture\n",
    "- Long Short-Term Memory (LSTM)\n",
    "- Transfer Learning\n",
    "- TensorFlow and Keras (deep learning libraries)\n",
    "- Python (for code implementation)\n",
    "\n",
    "### Expected Outputs:\n",
    "\n",
    "- A robust classification model combining CNN and LSTM layers for brain cancer detection.\n",
    "- Evaluation metrics report demonstrating the model's effectiveness.\n",
    "- Integrated software for medical image analysis in a clinical setting.\n",
    "\n",
    "Note: Make sure to comply with the dataset's terms of use and cite it appropriately in your project documentation."
   ]
  },
  {
   "cell_type": "markdown",
   "metadata": {},
   "source": [
    "# **Introduction to Dataset**"
   ]
  },
  {
   "cell_type": "markdown",
   "metadata": {},
   "source": [
    "A Brain tumor is considered as one of the most aggressive diseases, among children and adults. The 5-year survival rate for people with a cancerous brain or CNS tumor is approximately 34 percent for men and 36 percent for women. And the best technique to detect brain tumors is Magnetic Resonance Imaging (MRI). The dataset is contributed by Navoneel Chakrabarty and Swati Kanchan.\n",
    "\n",
    "This dataset provides a huge amount of image data generated through the scans. These images are typically examined by the radiologist. However, a manual examination can be error-prone due to the complexities. Hence, proposing a system performing detection and classification is the main goal of this dataset."
   ]
  },
  {
   "cell_type": "markdown",
   "metadata": {},
   "source": [
    "# **import libraries**"
   ]
  },
  {
   "cell_type": "code",
   "execution_count": 3,
   "metadata": {
    "execution": {
     "iopub.execute_input": "2023-12-12T23:16:14.842998Z",
     "iopub.status.busy": "2023-12-12T23:16:14.842564Z",
     "iopub.status.idle": "2023-12-12T23:16:21.193571Z",
     "shell.execute_reply": "2023-12-12T23:16:21.192592Z",
     "shell.execute_reply.started": "2023-12-12T23:16:14.842965Z"
    }
   },
   "outputs": [
    {
     "name": "stderr",
     "output_type": "stream",
     "text": [
      "2023-12-12 23:16:16.434521: E external/local_xla/xla/stream_executor/cuda/cuda_dnn.cc:9261] Unable to register cuDNN factory: Attempting to register factory for plugin cuDNN when one has already been registered\n",
      "2023-12-12 23:16:16.434698: E external/local_xla/xla/stream_executor/cuda/cuda_fft.cc:607] Unable to register cuFFT factory: Attempting to register factory for plugin cuFFT when one has already been registered\n",
      "2023-12-12 23:16:16.435624: E external/local_xla/xla/stream_executor/cuda/cuda_blas.cc:1515] Unable to register cuBLAS factory: Attempting to register factory for plugin cuBLAS when one has already been registered\n"
     ]
    }
   ],
   "source": [
    "import matplotlib.pyplot as plt\n",
    "import numpy as np\n",
    "import pandas as pd\n",
    "import seaborn as sns\n",
    "import cv2\n",
    "import tensorflow as tf\n",
    "from tensorflow.keras.preprocessing.image import ImageDataGenerator\n",
    "from tqdm import tqdm\n",
    "import os\n",
    "from sklearn.utils import shuffle\n",
    "from sklearn.model_selection import train_test_split\n",
    "from tensorflow.keras.applications.efficientnet import EfficientNetB1\n",
    "from tensorflow.keras.applications.vgg16 import VGG16\n",
    "from tensorflow.keras.applications.resnet50 import ResNet50, preprocess_input\n",
    "from tensorflow.keras.callbacks import EarlyStopping, ReduceLROnPlateau, TensorBoard, ModelCheckpoint\n",
    "from sklearn.metrics import classification_report,confusion_matrix\n",
    "import ipywidgets as widgets\n",
    "import io\n",
    "from PIL import Image\n",
    "from IPython.display import display,clear_output\n",
    "from warnings import filterwarnings\n",
    "import pickle"
   ]
  },
  {
   "cell_type": "markdown",
   "metadata": {},
   "source": [
    "# **\"Custom Color Palettes for Enhanced Visualizations\"**"
   ]
  },
  {
   "cell_type": "code",
   "execution_count": 5,
   "metadata": {
    "execution": {
     "iopub.execute_input": "2023-12-12T23:20:56.070065Z",
     "iopub.status.busy": "2023-12-12T23:20:56.069664Z",
     "iopub.status.idle": "2023-12-12T23:20:56.076414Z",
     "shell.execute_reply": "2023-12-12T23:20:56.075346Z",
     "shell.execute_reply.started": "2023-12-12T23:20:56.070035Z"
    }
   },
   "outputs": [],
   "source": [
    "colors_dark = [\"#1F1F1F\", \"#313131\", '#636363', '#AEAEAE', '#DADADA']\n",
    "colors_red = [\"#331313\", \"#582626\", '#9E1717', '#D35151', '#E9B4B4']\n",
    "colors_green = ['#01411C','#4B6F44','#4F7942','#74C365','#D0F0C0']"
   ]
  },
  {
   "cell_type": "markdown",
   "metadata": {},
   "source": [
    "# **\"Data Augmentation with Random Rotation and Flip in TensorFlow\"**"
   ]
  },
  {
   "cell_type": "code",
   "execution_count": 6,
   "metadata": {
    "execution": {
     "iopub.execute_input": "2023-12-12T23:22:19.531216Z",
     "iopub.status.busy": "2023-12-12T23:22:19.530846Z",
     "iopub.status.idle": "2023-12-12T23:22:19.545746Z",
     "shell.execute_reply": "2023-12-12T23:22:19.544290Z",
     "shell.execute_reply.started": "2023-12-12T23:22:19.531191Z"
    }
   },
   "outputs": [],
   "source": [
    "rot = tf.keras.layers.RandomRotation(factor=0.2)\n",
    "flip = tf.keras.layers.RandomFlip(mode=\"horizontal_and_vertical\")\n",
    "\n",
    "def augment(images):\n",
    "    for i in range(len(images)):\n",
    "        flipped = flip(images[i])\n",
    "        images[i] = rot(flipped)\n",
    "    \n",
    "    return images"
   ]
  },
  {
   "cell_type": "markdown",
   "metadata": {},
   "source": [
    "# **\"Loading and Preprocessing Brain Tumor MRI Images for Classification\"**"
   ]
  },
  {
   "cell_type": "code",
   "execution_count": 7,
   "metadata": {
    "execution": {
     "iopub.execute_input": "2023-12-12T23:23:52.360898Z",
     "iopub.status.busy": "2023-12-12T23:23:52.360502Z",
     "iopub.status.idle": "2023-12-12T23:24:33.906788Z",
     "shell.execute_reply": "2023-12-12T23:24:33.905854Z",
     "shell.execute_reply.started": "2023-12-12T23:23:52.360869Z"
    }
   },
   "outputs": [
    {
     "name": "stderr",
     "output_type": "stream",
     "text": [
      "100%|██████████| 826/826 [00:10<00:00, 82.51it/s]\n",
      "100%|██████████| 395/395 [00:04<00:00, 92.47it/s] \n",
      "100%|██████████| 822/822 [00:10<00:00, 81.73it/s]\n",
      "100%|██████████| 827/827 [00:10<00:00, 77.54it/s]\n",
      "100%|██████████| 100/100 [00:01<00:00, 86.17it/s]\n",
      "100%|██████████| 105/105 [00:00<00:00, 116.62it/s]\n",
      "100%|██████████| 115/115 [00:01<00:00, 97.28it/s]\n",
      "100%|██████████| 74/74 [00:01<00:00, 58.86it/s]\n"
     ]
    }
   ],
   "source": [
    "labels = ['glioma_tumor','no_tumor','meningioma_tumor','pituitary_tumor']\n",
    "X_train = []\n",
    "y_train = []\n",
    "image_size = 224\n",
    "for i in labels:\n",
    "    folderPath = os.path.join('../input/brain-tumor-classification-mri','Training',i)\n",
    "    for j in tqdm(os.listdir(folderPath)):\n",
    "        img = cv2.imread(os.path.join(folderPath,j))\n",
    "        img = cv2.resize(img,(image_size, image_size))\n",
    "        #img = np.expand_dims(img, axis=0)\n",
    "        img = preprocess_input(img)\n",
    "        X_train.append(img)\n",
    "        y_train.append(i)\n",
    "\n",
    "for i in labels:\n",
    "    folderPath = os.path.join('../input/brain-tumor-classification-mri','Testing',i)\n",
    "    for j in tqdm(os.listdir(folderPath)):\n",
    "        img = cv2.imread(os.path.join(folderPath,j))\n",
    "        img = cv2.resize(img,(image_size, image_size))\n",
    "        #img = np.expand_dims(img, axis=0)\n",
    "        img = preprocess_input(img)\n",
    "        X_train.append(img)\n",
    "        y_train.append(i)\n",
    "        \n",
    "X_train = np.array(X_train)\n",
    "y_train = np.array(y_train)"
   ]
  },
  {
   "cell_type": "markdown",
   "metadata": {},
   "source": [
    "# \"Converting Brain Tumor Labels to Categorical for Classification Model\""
   ]
  },
  {
   "cell_type": "code",
   "execution_count": 8,
   "metadata": {
    "execution": {
     "iopub.execute_input": "2023-12-12T23:27:15.788842Z",
     "iopub.status.busy": "2023-12-12T23:27:15.788360Z",
     "iopub.status.idle": "2023-12-12T23:27:15.797703Z",
     "shell.execute_reply": "2023-12-12T23:27:15.796305Z",
     "shell.execute_reply.started": "2023-12-12T23:27:15.788810Z"
    }
   },
   "outputs": [],
   "source": [
    "y_train_new = []\n",
    "for i in y_train:\n",
    "    y_train_new.append(labels.index(i))\n",
    "y_train = y_train_new\n",
    "y_train = tf.keras.utils.to_categorical(y_train)"
   ]
  },
  {
   "cell_type": "markdown",
   "metadata": {},
   "source": [
    "# **\"Augmenting Brain Tumor Image Data for Improved Model Performance\"**"
   ]
  },
  {
   "cell_type": "code",
   "execution_count": 9,
   "metadata": {
    "execution": {
     "iopub.execute_input": "2023-12-12T23:34:44.774488Z",
     "iopub.status.busy": "2023-12-12T23:34:44.774011Z",
     "iopub.status.idle": "2023-12-12T23:35:26.240471Z",
     "shell.execute_reply": "2023-12-12T23:35:26.239059Z",
     "shell.execute_reply.started": "2023-12-12T23:34:44.774446Z"
    }
   },
   "outputs": [],
   "source": [
    "X_train = np.vstack((X_train, augment(X_train)))\n",
    "y_train = np.vstack((y_train, y_train.copy()))"
   ]
  },
  {
   "cell_type": "markdown",
   "metadata": {},
   "source": [
    "# **\"Checking the Shape of Augmented Brain Tumor Image Data and Labels\"**"
   ]
  },
  {
   "cell_type": "code",
   "execution_count": 10,
   "metadata": {
    "execution": {
     "iopub.execute_input": "2023-12-12T23:36:24.622210Z",
     "iopub.status.busy": "2023-12-12T23:36:24.621854Z",
     "iopub.status.idle": "2023-12-12T23:36:24.629280Z",
     "shell.execute_reply": "2023-12-12T23:36:24.628499Z",
     "shell.execute_reply.started": "2023-12-12T23:36:24.622186Z"
    }
   },
   "outputs": [
    {
     "data": {
      "text/plain": [
       "((6528, 224, 224, 3), (6528, 4))"
      ]
     },
     "execution_count": 10,
     "metadata": {},
     "output_type": "execute_result"
    }
   ],
   "source": [
    "X_train.shape, y_train.shape"
   ]
  },
  {
   "cell_type": "markdown",
   "metadata": {},
   "source": [
    "# **\"Shuffling Augmented Brain Tumor Image Data and Labels\"**"
   ]
  },
  {
   "cell_type": "code",
   "execution_count": 12,
   "metadata": {
    "execution": {
     "iopub.execute_input": "2023-12-12T23:37:55.765530Z",
     "iopub.status.busy": "2023-12-12T23:37:55.765176Z",
     "iopub.status.idle": "2023-12-12T23:37:56.364126Z",
     "shell.execute_reply": "2023-12-12T23:37:56.363142Z",
     "shell.execute_reply.started": "2023-12-12T23:37:55.765505Z"
    }
   },
   "outputs": [],
   "source": [
    "X_train, y_train = shuffle(X_train, y_train, random_state=101)"
   ]
  },
  {
   "cell_type": "markdown",
   "metadata": {},
   "source": [
    "# **\"Splitting Augmented Brain Tumor Data into Training and Testing Sets\"**"
   ]
  },
  {
   "cell_type": "code",
   "execution_count": 13,
   "metadata": {
    "execution": {
     "iopub.execute_input": "2023-12-12T23:39:57.790537Z",
     "iopub.status.busy": "2023-12-12T23:39:57.790102Z",
     "iopub.status.idle": "2023-12-12T23:39:58.535212Z",
     "shell.execute_reply": "2023-12-12T23:39:58.533842Z",
     "shell.execute_reply.started": "2023-12-12T23:39:57.790501Z"
    }
   },
   "outputs": [],
   "source": [
    "X_train,X_test,y_train,y_test = train_test_split(X_train, y_train, test_size=0.1, random_state=101)"
   ]
  },
  {
   "cell_type": "markdown",
   "metadata": {},
   "source": [
    "# **\"Checking the Shape of Training and Testing Data after Split\"**"
   ]
  },
  {
   "cell_type": "code",
   "execution_count": 14,
   "metadata": {
    "execution": {
     "iopub.execute_input": "2023-12-12T23:41:34.210522Z",
     "iopub.status.busy": "2023-12-12T23:41:34.209674Z",
     "iopub.status.idle": "2023-12-12T23:41:34.217920Z",
     "shell.execute_reply": "2023-12-12T23:41:34.216824Z",
     "shell.execute_reply.started": "2023-12-12T23:41:34.210490Z"
    }
   },
   "outputs": [
    {
     "data": {
      "text/plain": [
       "((5875, 224, 224, 3), (653, 224, 224, 3))"
      ]
     },
     "execution_count": 14,
     "metadata": {},
     "output_type": "execute_result"
    }
   ],
   "source": [
    "X_train.shape, X_test.shape"
   ]
  },
  {
   "cell_type": "markdown",
   "metadata": {},
   "source": [
    "# **\"Loading ResNet50 Model for Feature Extraction\"**"
   ]
  },
  {
   "cell_type": "code",
   "execution_count": 15,
   "metadata": {
    "execution": {
     "iopub.execute_input": "2023-12-12T23:43:09.940761Z",
     "iopub.status.busy": "2023-12-12T23:43:09.940323Z",
     "iopub.status.idle": "2023-12-12T23:43:12.664928Z",
     "shell.execute_reply": "2023-12-12T23:43:12.663141Z",
     "shell.execute_reply.started": "2023-12-12T23:43:09.940732Z"
    }
   },
   "outputs": [
    {
     "name": "stdout",
     "output_type": "stream",
     "text": [
      "Downloading data from https://storage.googleapis.com/tensorflow/keras-applications/resnet/resnet50_weights_tf_dim_ordering_tf_kernels_notop.h5\n",
      "94765736/94765736 [==============================] - 1s 0us/step\n"
     ]
    }
   ],
   "source": [
    "r50 = tf.keras.applications.ResNet50(weights='imagenet', include_top=False, input_shape=(image_size, image_size, 3))"
   ]
  },
  {
   "cell_type": "markdown",
   "metadata": {},
   "source": [
    "# **\"Generating Predictions Using ResNet50 for Training and Testing Data\"**"
   ]
  },
  {
   "cell_type": "code",
   "execution_count": 16,
   "metadata": {
    "execution": {
     "iopub.execute_input": "2023-12-12T23:44:16.404908Z",
     "iopub.status.busy": "2023-12-12T23:44:16.404535Z",
     "iopub.status.idle": "2023-12-12T23:51:19.770118Z",
     "shell.execute_reply": "2023-12-12T23:51:19.769232Z",
     "shell.execute_reply.started": "2023-12-12T23:44:16.404881Z"
    }
   },
   "outputs": [
    {
     "name": "stdout",
     "output_type": "stream",
     "text": [
      "184/184 [==============================] - 376s 2s/step\n",
      "21/21 [==============================] - 39s 2s/step\n"
     ]
    }
   ],
   "source": [
    "X_train_preds = r50.predict(X_train)\n",
    "X_test_preds = r50.predict(X_test)"
   ]
  },
  {
   "cell_type": "markdown",
   "metadata": {},
   "source": [
    "# **\"ResNet50 Extracted Features Shape for Training and Testing Datasets\"**"
   ]
  },
  {
   "cell_type": "code",
   "execution_count": 17,
   "metadata": {
    "execution": {
     "iopub.execute_input": "2023-12-12T23:57:47.616014Z",
     "iopub.status.busy": "2023-12-12T23:57:47.615630Z",
     "iopub.status.idle": "2023-12-12T23:57:47.622848Z",
     "shell.execute_reply": "2023-12-12T23:57:47.621821Z",
     "shell.execute_reply.started": "2023-12-12T23:57:47.615988Z"
    }
   },
   "outputs": [
    {
     "data": {
      "text/plain": [
       "((5875, 7, 7, 2048), (653, 7, 7, 2048))"
      ]
     },
     "execution_count": 17,
     "metadata": {},
     "output_type": "execute_result"
    }
   ],
   "source": [
    "X_train_preds.shape, X_test_preds.shape"
   ]
  },
  {
   "cell_type": "markdown",
   "metadata": {},
   "source": [
    "# **\"Reshaped ResNet50 Extracted Features for Training and Testing Datasets\"**"
   ]
  },
  {
   "cell_type": "code",
   "execution_count": 18,
   "metadata": {
    "execution": {
     "iopub.execute_input": "2023-12-12T23:59:13.742711Z",
     "iopub.status.busy": "2023-12-12T23:59:13.742219Z",
     "iopub.status.idle": "2023-12-12T23:59:16.806381Z",
     "shell.execute_reply": "2023-12-12T23:59:16.805065Z",
     "shell.execute_reply.started": "2023-12-12T23:59:13.742670Z"
    }
   },
   "outputs": [],
   "source": [
    "X_train_features = np.zeros((5875, 1, 100352))\n",
    "for i in range(5875):\n",
    "    X_train_features[i] = X_train_preds[i].reshape((1, 100352))\n",
    "\n",
    "X_test_features = np.zeros((653, 1, 100352))\n",
    "for i in range(653):\n",
    "    X_test_features[i] = X_test_preds[i].reshape((1, 100352))"
   ]
  },
  {
   "cell_type": "markdown",
   "metadata": {},
   "source": [
    "# **\"Cascaded CNN-LSTM Model for Brain Tumor Classification\"**"
   ]
  },
  {
   "cell_type": "code",
   "execution_count": 19,
   "metadata": {
    "execution": {
     "iopub.execute_input": "2023-12-13T00:00:49.802749Z",
     "iopub.status.busy": "2023-12-13T00:00:49.802337Z",
     "iopub.status.idle": "2023-12-13T00:00:51.845467Z",
     "shell.execute_reply": "2023-12-13T00:00:51.844303Z",
     "shell.execute_reply.started": "2023-12-13T00:00:49.802723Z"
    }
   },
   "outputs": [],
   "source": [
    "model = tf.keras.models.Sequential([\n",
    "  tf.keras.layers.LSTM(512, input_shape=(1, 100352), activation='relu', return_sequences=True),\n",
    "  tf.keras.layers.Dropout(0.2),\n",
    "  tf.keras.layers.LSTM(256, activation='relu', return_sequences=True),\n",
    "  tf.keras.layers.Dropout(0.2),\n",
    "  tf.keras.layers.LSTM(128, activation='relu', return_sequences=True),\n",
    "  tf.keras.layers.Dropout(0.2),\n",
    "  tf.keras.layers.LSTM(64, activation='relu'),\n",
    "  tf.keras.layers.Dropout(0.2),\n",
    "  tf.keras.layers.Dense(4, activation='softmax')\n",
    "])"
   ]
  },
  {
   "cell_type": "markdown",
   "metadata": {},
   "source": [
    "# **\"Summary of Cascaded CNN-LSTM Model for Brain Tumor Classification\"**"
   ]
  },
  {
   "cell_type": "code",
   "execution_count": 20,
   "metadata": {
    "execution": {
     "iopub.execute_input": "2023-12-13T00:04:08.976278Z",
     "iopub.status.busy": "2023-12-13T00:04:08.975922Z",
     "iopub.status.idle": "2023-12-13T00:04:09.009378Z",
     "shell.execute_reply": "2023-12-13T00:04:09.008020Z",
     "shell.execute_reply.started": "2023-12-13T00:04:08.976252Z"
    }
   },
   "outputs": [
    {
     "name": "stdout",
     "output_type": "stream",
     "text": [
      "Model: \"sequential\"\n",
      "_________________________________________________________________\n",
      " Layer (type)                Output Shape              Param #   \n",
      "=================================================================\n",
      " lstm (LSTM)                 (None, 1, 512)            206571520 \n",
      "                                                                 \n",
      " dropout (Dropout)           (None, 1, 512)            0         \n",
      "                                                                 \n",
      " lstm_1 (LSTM)               (None, 1, 256)            787456    \n",
      "                                                                 \n",
      " dropout_1 (Dropout)         (None, 1, 256)            0         \n",
      "                                                                 \n",
      " lstm_2 (LSTM)               (None, 1, 128)            197120    \n",
      "                                                                 \n",
      " dropout_2 (Dropout)         (None, 1, 128)            0         \n",
      "                                                                 \n",
      " lstm_3 (LSTM)               (None, 64)                49408     \n",
      "                                                                 \n",
      " dropout_3 (Dropout)         (None, 64)                0         \n",
      "                                                                 \n",
      " dense (Dense)               (None, 4)                 260       \n",
      "                                                                 \n",
      "=================================================================\n",
      "Total params: 207605764 (791.95 MB)\n",
      "Trainable params: 207605764 (791.95 MB)\n",
      "Non-trainable params: 0 (0.00 Byte)\n",
      "_________________________________________________________________\n"
     ]
    }
   ],
   "source": [
    "model.summary()"
   ]
  },
  {
   "cell_type": "markdown",
   "metadata": {},
   "source": [
    "# **\"Compiling Cascaded CNN-LSTM Model for Brain Tumor Classification\"**"
   ]
  },
  {
   "cell_type": "code",
   "execution_count": 22,
   "metadata": {
    "execution": {
     "iopub.execute_input": "2023-12-13T00:10:33.206082Z",
     "iopub.status.busy": "2023-12-13T00:10:33.204595Z",
     "iopub.status.idle": "2023-12-13T00:10:33.219350Z",
     "shell.execute_reply": "2023-12-13T00:10:33.218397Z",
     "shell.execute_reply.started": "2023-12-13T00:10:33.206020Z"
    }
   },
   "outputs": [],
   "source": [
    "model.compile(loss='categorical_crossentropy',optimizer = 'Adam', metrics= ['accuracy'])"
   ]
  },
  {
   "cell_type": "markdown",
   "metadata": {},
   "source": [
    "# **\"Configuring Callbacks for CNN-LSTM Model Training\"**"
   ]
  },
  {
   "cell_type": "code",
   "execution_count": 23,
   "metadata": {
    "execution": {
     "iopub.execute_input": "2023-12-13T00:14:50.464244Z",
     "iopub.status.busy": "2023-12-13T00:14:50.463869Z",
     "iopub.status.idle": "2023-12-13T00:14:50.474166Z",
     "shell.execute_reply": "2023-12-13T00:14:50.473024Z",
     "shell.execute_reply.started": "2023-12-13T00:14:50.464216Z"
    }
   },
   "outputs": [],
   "source": [
    "tensorboard = TensorBoard(log_dir = 'logs')\n",
    "checkpoint = ModelCheckpoint(\"bestomodelo.h5\",monitor=\"val_accuracy\",save_best_only=True,mode=\"auto\",verbose=1)\n",
    "reduce_lr = ReduceLROnPlateau(monitor = 'val_accuracy', factor = 0.3, patience = 2, min_delta = 0.001, mode='auto',verbose=1)"
   ]
  },
  {
   "cell_type": "markdown",
   "metadata": {},
   "source": [
    "# **\"Training CNN-LSTM Model with ResNet Features\"**"
   ]
  },
  {
   "cell_type": "code",
   "execution_count": 24,
   "metadata": {
    "execution": {
     "iopub.execute_input": "2023-12-13T00:19:15.167251Z",
     "iopub.status.busy": "2023-12-13T00:19:15.166904Z",
     "iopub.status.idle": "2023-12-13T03:37:55.334813Z",
     "shell.execute_reply": "2023-12-13T03:37:55.331817Z",
     "shell.execute_reply.started": "2023-12-13T00:19:15.167228Z"
    }
   },
   "outputs": [
    {
     "name": "stdout",
     "output_type": "stream",
     "text": [
      "Epoch 1/50\n",
      "166/166 [==============================] - ETA: 0s - loss: 1.4171 - accuracy: 0.3115\n",
      "Epoch 1: val_accuracy improved from -inf to 0.41667, saving model to bestomodelo.h5\n"
     ]
    },
    {
     "name": "stderr",
     "output_type": "stream",
     "text": [
      "/opt/conda/lib/python3.10/site-packages/keras/src/engine/training.py:3103: UserWarning: You are saving your model as an HDF5 file via `model.save()`. This file format is considered legacy. We recommend using instead the native Keras format, e.g. `model.save('my_model.keras')`.\n",
      "  saving_api.save_model(\n"
     ]
    },
    {
     "name": "stdout",
     "output_type": "stream",
     "text": [
      "166/166 [==============================] - 242s 1s/step - loss: 1.4171 - accuracy: 0.3115 - val_loss: 1.2801 - val_accuracy: 0.4167 - lr: 0.0010\n",
      "Epoch 2/50\n",
      "166/166 [==============================] - ETA: 0s - loss: 1.1930 - accuracy: 0.4269\n",
      "Epoch 2: val_accuracy improved from 0.41667 to 0.57143, saving model to bestomodelo.h5\n",
      "166/166 [==============================] - 251s 2s/step - loss: 1.1930 - accuracy: 0.4269 - val_loss: 0.9018 - val_accuracy: 0.5714 - lr: 0.0010\n",
      "Epoch 3/50\n",
      "166/166 [==============================] - ETA: 0s - loss: 0.8537 - accuracy: 0.6425\n",
      "Epoch 3: val_accuracy improved from 0.57143 to 0.76871, saving model to bestomodelo.h5\n",
      "166/166 [==============================] - 263s 2s/step - loss: 0.8537 - accuracy: 0.6425 - val_loss: 0.6088 - val_accuracy: 0.7687 - lr: 0.0010\n",
      "Epoch 4/50\n",
      "166/166 [==============================] - ETA: 0s - loss: 0.6293 - accuracy: 0.7545\n",
      "Epoch 4: val_accuracy improved from 0.76871 to 0.82823, saving model to bestomodelo.h5\n",
      "166/166 [==============================] - 254s 2s/step - loss: 0.6293 - accuracy: 0.7545 - val_loss: 0.4803 - val_accuracy: 0.8282 - lr: 0.0010\n",
      "Epoch 5/50\n",
      "166/166 [==============================] - ETA: 0s - loss: 0.4495 - accuracy: 0.8332\n",
      "Epoch 5: val_accuracy improved from 0.82823 to 0.87415, saving model to bestomodelo.h5\n",
      "166/166 [==============================] - 247s 1s/step - loss: 0.4495 - accuracy: 0.8332 - val_loss: 0.3616 - val_accuracy: 0.8741 - lr: 0.0010\n",
      "Epoch 6/50\n",
      "166/166 [==============================] - ETA: 0s - loss: 0.3409 - accuracy: 0.8731\n",
      "Epoch 6: val_accuracy improved from 0.87415 to 0.87585, saving model to bestomodelo.h5\n",
      "166/166 [==============================] - 269s 2s/step - loss: 0.3409 - accuracy: 0.8731 - val_loss: 0.3836 - val_accuracy: 0.8759 - lr: 0.0010\n",
      "Epoch 7/50\n",
      "166/166 [==============================] - ETA: 0s - loss: 0.2755 - accuracy: 0.9030\n",
      "Epoch 7: val_accuracy improved from 0.87585 to 0.89116, saving model to bestomodelo.h5\n",
      "166/166 [==============================] - 252s 2s/step - loss: 0.2755 - accuracy: 0.9030 - val_loss: 0.3765 - val_accuracy: 0.8912 - lr: 0.0010\n",
      "Epoch 8/50\n",
      "166/166 [==============================] - ETA: 0s - loss: 0.2927 - accuracy: 0.8981\n",
      "Epoch 8: val_accuracy did not improve from 0.89116\n",
      "166/166 [==============================] - 236s 1s/step - loss: 0.2927 - accuracy: 0.8981 - val_loss: 0.4874 - val_accuracy: 0.8588 - lr: 0.0010\n",
      "Epoch 9/50\n",
      "166/166 [==============================] - ETA: 0s - loss: 0.3162 - accuracy: 0.8960\n",
      "Epoch 9: val_accuracy improved from 0.89116 to 0.90306, saving model to bestomodelo.h5\n",
      "166/166 [==============================] - 246s 1s/step - loss: 0.3162 - accuracy: 0.8960 - val_loss: 0.3693 - val_accuracy: 0.9031 - lr: 0.0010\n",
      "Epoch 10/50\n",
      "166/166 [==============================] - ETA: 0s - loss: 0.2589 - accuracy: 0.9160\n",
      "Epoch 10: val_accuracy improved from 0.90306 to 0.92177, saving model to bestomodelo.h5\n",
      "166/166 [==============================] - 245s 1s/step - loss: 0.2589 - accuracy: 0.9160 - val_loss: 0.3942 - val_accuracy: 0.9218 - lr: 0.0010\n",
      "Epoch 11/50\n",
      "166/166 [==============================] - ETA: 0s - loss: 0.3090 - accuracy: 0.9033\n",
      "Epoch 11: val_accuracy did not improve from 0.92177\n",
      "166/166 [==============================] - 232s 1s/step - loss: 0.3090 - accuracy: 0.9033 - val_loss: 0.4500 - val_accuracy: 0.9014 - lr: 0.0010\n",
      "Epoch 12/50\n",
      "166/166 [==============================] - ETA: 0s - loss: 0.2472 - accuracy: 0.9102\n",
      "Epoch 12: val_accuracy improved from 0.92177 to 0.92857, saving model to bestomodelo.h5\n",
      "166/166 [==============================] - 247s 1s/step - loss: 0.2472 - accuracy: 0.9102 - val_loss: 0.2609 - val_accuracy: 0.9286 - lr: 0.0010\n",
      "Epoch 13/50\n",
      "166/166 [==============================] - ETA: 0s - loss: 0.1828 - accuracy: 0.9440\n",
      "Epoch 13: val_accuracy did not improve from 0.92857\n",
      "166/166 [==============================] - 232s 1s/step - loss: 0.1828 - accuracy: 0.9440 - val_loss: 0.2671 - val_accuracy: 0.9269 - lr: 0.0010\n",
      "Epoch 14/50\n",
      "166/166 [==============================] - ETA: 0s - loss: 0.1826 - accuracy: 0.9450\n",
      "Epoch 14: val_accuracy did not improve from 0.92857\n",
      "\n",
      "Epoch 14: ReduceLROnPlateau reducing learning rate to 0.0003000000142492354.\n",
      "166/166 [==============================] - 233s 1s/step - loss: 0.1826 - accuracy: 0.9450 - val_loss: 0.2980 - val_accuracy: 0.9269 - lr: 0.0010\n",
      "Epoch 15/50\n",
      "166/166 [==============================] - ETA: 0s - loss: 0.1265 - accuracy: 0.9563\n",
      "Epoch 15: val_accuracy improved from 0.92857 to 0.93707, saving model to bestomodelo.h5\n",
      "166/166 [==============================] - 244s 1s/step - loss: 0.1265 - accuracy: 0.9563 - val_loss: 0.2513 - val_accuracy: 0.9371 - lr: 3.0000e-04\n",
      "Epoch 16/50\n",
      "166/166 [==============================] - ETA: 0s - loss: 0.0834 - accuracy: 0.9735\n",
      "Epoch 16: val_accuracy improved from 0.93707 to 0.94558, saving model to bestomodelo.h5\n",
      "166/166 [==============================] - 247s 1s/step - loss: 0.0834 - accuracy: 0.9735 - val_loss: 0.2656 - val_accuracy: 0.9456 - lr: 3.0000e-04\n",
      "Epoch 17/50\n",
      "166/166 [==============================] - ETA: 0s - loss: 0.0813 - accuracy: 0.9714\n",
      "Epoch 17: val_accuracy improved from 0.94558 to 0.95238, saving model to bestomodelo.h5\n",
      "166/166 [==============================] - 252s 2s/step - loss: 0.0813 - accuracy: 0.9714 - val_loss: 0.3002 - val_accuracy: 0.9524 - lr: 3.0000e-04\n",
      "Epoch 18/50\n",
      "166/166 [==============================] - ETA: 0s - loss: 0.0721 - accuracy: 0.9767\n",
      "Epoch 18: val_accuracy did not improve from 0.95238\n",
      "166/166 [==============================] - 234s 1s/step - loss: 0.0721 - accuracy: 0.9767 - val_loss: 0.3377 - val_accuracy: 0.9524 - lr: 3.0000e-04\n",
      "Epoch 19/50\n",
      "166/166 [==============================] - ETA: 0s - loss: 0.0623 - accuracy: 0.9771\n",
      "Epoch 19: val_accuracy did not improve from 0.95238\n",
      "\n",
      "Epoch 19: ReduceLROnPlateau reducing learning rate to 9.000000427477062e-05.\n",
      "166/166 [==============================] - 245s 1s/step - loss: 0.0623 - accuracy: 0.9771 - val_loss: 0.3777 - val_accuracy: 0.9524 - lr: 3.0000e-04\n",
      "Epoch 20/50\n",
      "166/166 [==============================] - ETA: 0s - loss: 0.0501 - accuracy: 0.9839\n",
      "Epoch 20: val_accuracy did not improve from 0.95238\n",
      "166/166 [==============================] - 241s 1s/step - loss: 0.0501 - accuracy: 0.9839 - val_loss: 0.3719 - val_accuracy: 0.9524 - lr: 9.0000e-05\n",
      "Epoch 21/50\n",
      "166/166 [==============================] - ETA: 0s - loss: 0.0532 - accuracy: 0.9834\n",
      "Epoch 21: val_accuracy improved from 0.95238 to 0.95408, saving model to bestomodelo.h5\n",
      "166/166 [==============================] - 252s 2s/step - loss: 0.0532 - accuracy: 0.9834 - val_loss: 0.3549 - val_accuracy: 0.9541 - lr: 9.0000e-05\n",
      "Epoch 22/50\n",
      "166/166 [==============================] - ETA: 0s - loss: 0.0508 - accuracy: 0.9809\n",
      "Epoch 22: val_accuracy did not improve from 0.95408\n",
      "166/166 [==============================] - 247s 1s/step - loss: 0.0508 - accuracy: 0.9809 - val_loss: 0.3744 - val_accuracy: 0.9541 - lr: 9.0000e-05\n",
      "Epoch 23/50\n",
      "166/166 [==============================] - ETA: 0s - loss: 0.0440 - accuracy: 0.9873\n",
      "Epoch 23: val_accuracy did not improve from 0.95408\n",
      "\n",
      "Epoch 23: ReduceLROnPlateau reducing learning rate to 2.700000040931627e-05.\n",
      "166/166 [==============================] - 234s 1s/step - loss: 0.0440 - accuracy: 0.9873 - val_loss: 0.3556 - val_accuracy: 0.9524 - lr: 9.0000e-05\n",
      "Epoch 24/50\n",
      "166/166 [==============================] - ETA: 0s - loss: 0.0395 - accuracy: 0.9858\n",
      "Epoch 24: val_accuracy did not improve from 0.95408\n",
      "166/166 [==============================] - 234s 1s/step - loss: 0.0395 - accuracy: 0.9858 - val_loss: 0.3662 - val_accuracy: 0.9524 - lr: 2.7000e-05\n",
      "Epoch 25/50\n",
      "166/166 [==============================] - ETA: 0s - loss: 0.0437 - accuracy: 0.9866\n",
      "Epoch 25: val_accuracy did not improve from 0.95408\n",
      "\n",
      "Epoch 25: ReduceLROnPlateau reducing learning rate to 8.100000013655517e-06.\n",
      "166/166 [==============================] - 238s 1s/step - loss: 0.0437 - accuracy: 0.9866 - val_loss: 0.3832 - val_accuracy: 0.9541 - lr: 2.7000e-05\n",
      "Epoch 26/50\n",
      "166/166 [==============================] - ETA: 0s - loss: 0.0435 - accuracy: 0.9858\n",
      "Epoch 26: val_accuracy did not improve from 0.95408\n",
      "166/166 [==============================] - 234s 1s/step - loss: 0.0435 - accuracy: 0.9858 - val_loss: 0.3809 - val_accuracy: 0.9541 - lr: 8.1000e-06\n",
      "Epoch 27/50\n",
      "166/166 [==============================] - ETA: 0s - loss: 0.0395 - accuracy: 0.9854\n",
      "Epoch 27: val_accuracy did not improve from 0.95408\n",
      "\n",
      "Epoch 27: ReduceLROnPlateau reducing learning rate to 2.429999949526973e-06.\n",
      "166/166 [==============================] - 237s 1s/step - loss: 0.0395 - accuracy: 0.9854 - val_loss: 0.3806 - val_accuracy: 0.9541 - lr: 8.1000e-06\n",
      "Epoch 28/50\n",
      "166/166 [==============================] - ETA: 0s - loss: 0.0345 - accuracy: 0.9868\n",
      "Epoch 28: val_accuracy did not improve from 0.95408\n",
      "166/166 [==============================] - 236s 1s/step - loss: 0.0345 - accuracy: 0.9868 - val_loss: 0.3804 - val_accuracy: 0.9524 - lr: 2.4300e-06\n",
      "Epoch 29/50\n",
      "166/166 [==============================] - ETA: 0s - loss: 0.0478 - accuracy: 0.9849\n",
      "Epoch 29: val_accuracy did not improve from 0.95408\n",
      "\n",
      "Epoch 29: ReduceLROnPlateau reducing learning rate to 7.289999985005124e-07.\n",
      "166/166 [==============================] - 238s 1s/step - loss: 0.0478 - accuracy: 0.9849 - val_loss: 0.3790 - val_accuracy: 0.9541 - lr: 2.4300e-06\n",
      "Epoch 30/50\n",
      "166/166 [==============================] - ETA: 0s - loss: 0.0413 - accuracy: 0.9881\n",
      "Epoch 30: val_accuracy did not improve from 0.95408\n",
      "166/166 [==============================] - 239s 1s/step - loss: 0.0413 - accuracy: 0.9881 - val_loss: 0.3788 - val_accuracy: 0.9541 - lr: 7.2900e-07\n",
      "Epoch 31/50\n",
      "166/166 [==============================] - ETA: 0s - loss: 0.0432 - accuracy: 0.9856\n",
      "Epoch 31: val_accuracy did not improve from 0.95408\n",
      "\n",
      "Epoch 31: ReduceLROnPlateau reducing learning rate to 2.1870000637136398e-07.\n",
      "166/166 [==============================] - 242s 1s/step - loss: 0.0432 - accuracy: 0.9856 - val_loss: 0.3786 - val_accuracy: 0.9541 - lr: 7.2900e-07\n",
      "Epoch 32/50\n",
      "166/166 [==============================] - ETA: 0s - loss: 0.0384 - accuracy: 0.9883\n",
      "Epoch 32: val_accuracy did not improve from 0.95408\n",
      "166/166 [==============================] - 233s 1s/step - loss: 0.0384 - accuracy: 0.9883 - val_loss: 0.3787 - val_accuracy: 0.9541 - lr: 2.1870e-07\n",
      "Epoch 33/50\n",
      "166/166 [==============================] - ETA: 0s - loss: 0.0401 - accuracy: 0.9877\n",
      "Epoch 33: val_accuracy did not improve from 0.95408\n",
      "\n",
      "Epoch 33: ReduceLROnPlateau reducing learning rate to 6.561000276406048e-08.\n",
      "166/166 [==============================] - 226s 1s/step - loss: 0.0401 - accuracy: 0.9877 - val_loss: 0.3788 - val_accuracy: 0.9541 - lr: 2.1870e-07\n",
      "Epoch 34/50\n",
      "166/166 [==============================] - ETA: 0s - loss: 0.0357 - accuracy: 0.9877\n",
      "Epoch 34: val_accuracy did not improve from 0.95408\n",
      "166/166 [==============================] - 229s 1s/step - loss: 0.0357 - accuracy: 0.9877 - val_loss: 0.3788 - val_accuracy: 0.9541 - lr: 6.5610e-08\n",
      "Epoch 35/50\n",
      "166/166 [==============================] - ETA: 0s - loss: 0.0385 - accuracy: 0.9866\n",
      "Epoch 35: val_accuracy did not improve from 0.95408\n",
      "\n",
      "Epoch 35: ReduceLROnPlateau reducing learning rate to 1.9683000829218145e-08.\n",
      "166/166 [==============================] - 226s 1s/step - loss: 0.0385 - accuracy: 0.9866 - val_loss: 0.3787 - val_accuracy: 0.9541 - lr: 6.5610e-08\n",
      "Epoch 36/50\n",
      "166/166 [==============================] - ETA: 0s - loss: 0.0402 - accuracy: 0.9875\n",
      "Epoch 36: val_accuracy did not improve from 0.95408\n",
      "166/166 [==============================] - 229s 1s/step - loss: 0.0402 - accuracy: 0.9875 - val_loss: 0.3787 - val_accuracy: 0.9541 - lr: 1.9683e-08\n",
      "Epoch 37/50\n",
      "166/166 [==============================] - ETA: 0s - loss: 0.0351 - accuracy: 0.9866\n",
      "Epoch 37: val_accuracy did not improve from 0.95408\n",
      "\n",
      "Epoch 37: ReduceLROnPlateau reducing learning rate to 5.904900035602622e-09.\n",
      "166/166 [==============================] - 228s 1s/step - loss: 0.0351 - accuracy: 0.9866 - val_loss: 0.3787 - val_accuracy: 0.9541 - lr: 1.9683e-08\n",
      "Epoch 38/50\n",
      "166/166 [==============================] - ETA: 0s - loss: 0.0376 - accuracy: 0.9871\n",
      "Epoch 38: val_accuracy did not improve from 0.95408\n",
      "166/166 [==============================] - 233s 1s/step - loss: 0.0376 - accuracy: 0.9871 - val_loss: 0.3787 - val_accuracy: 0.9541 - lr: 5.9049e-09\n",
      "Epoch 39/50\n",
      "166/166 [==============================] - ETA: 0s - loss: 0.0440 - accuracy: 0.9869\n",
      "Epoch 39: val_accuracy did not improve from 0.95408\n",
      "\n",
      "Epoch 39: ReduceLROnPlateau reducing learning rate to 1.7714700373261393e-09.\n",
      "166/166 [==============================] - 237s 1s/step - loss: 0.0440 - accuracy: 0.9869 - val_loss: 0.3787 - val_accuracy: 0.9541 - lr: 5.9049e-09\n",
      "Epoch 40/50\n",
      "166/166 [==============================] - ETA: 0s - loss: 0.0421 - accuracy: 0.9873\n",
      "Epoch 40: val_accuracy did not improve from 0.95408\n",
      "166/166 [==============================] - 234s 1s/step - loss: 0.0421 - accuracy: 0.9873 - val_loss: 0.3787 - val_accuracy: 0.9541 - lr: 1.7715e-09\n",
      "Epoch 41/50\n",
      "166/166 [==============================] - ETA: 0s - loss: 0.0392 - accuracy: 0.9873\n",
      "Epoch 41: val_accuracy did not improve from 0.95408\n",
      "\n",
      "Epoch 41: ReduceLROnPlateau reducing learning rate to 5.314410245205181e-10.\n",
      "166/166 [==============================] - 231s 1s/step - loss: 0.0392 - accuracy: 0.9873 - val_loss: 0.3787 - val_accuracy: 0.9541 - lr: 1.7715e-09\n",
      "Epoch 42/50\n",
      "166/166 [==============================] - ETA: 0s - loss: 0.0473 - accuracy: 0.9862\n",
      "Epoch 42: val_accuracy did not improve from 0.95408\n",
      "166/166 [==============================] - 227s 1s/step - loss: 0.0473 - accuracy: 0.9862 - val_loss: 0.3787 - val_accuracy: 0.9541 - lr: 5.3144e-10\n",
      "Epoch 43/50\n",
      "166/166 [==============================] - ETA: 0s - loss: 0.0423 - accuracy: 0.9852\n",
      "Epoch 43: val_accuracy did not improve from 0.95408\n",
      "\n",
      "Epoch 43: ReduceLROnPlateau reducing learning rate to 1.5943230069481729e-10.\n",
      "166/166 [==============================] - 225s 1s/step - loss: 0.0423 - accuracy: 0.9852 - val_loss: 0.3787 - val_accuracy: 0.9541 - lr: 5.3144e-10\n",
      "Epoch 44/50\n",
      "166/166 [==============================] - ETA: 0s - loss: 0.0438 - accuracy: 0.9864\n",
      "Epoch 44: val_accuracy did not improve from 0.95408\n",
      "166/166 [==============================] - 227s 1s/step - loss: 0.0438 - accuracy: 0.9864 - val_loss: 0.3787 - val_accuracy: 0.9541 - lr: 1.5943e-10\n",
      "Epoch 45/50\n",
      "166/166 [==============================] - ETA: 0s - loss: 0.0413 - accuracy: 0.9862\n",
      "Epoch 45: val_accuracy did not improve from 0.95408\n",
      "\n",
      "Epoch 45: ReduceLROnPlateau reducing learning rate to 4.7829690208445185e-11.\n",
      "166/166 [==============================] - 231s 1s/step - loss: 0.0413 - accuracy: 0.9862 - val_loss: 0.3787 - val_accuracy: 0.9541 - lr: 1.5943e-10\n",
      "Epoch 46/50\n",
      "166/166 [==============================] - ETA: 0s - loss: 0.0462 - accuracy: 0.9852\n",
      "Epoch 46: val_accuracy did not improve from 0.95408\n",
      "166/166 [==============================] - 231s 1s/step - loss: 0.0462 - accuracy: 0.9852 - val_loss: 0.3787 - val_accuracy: 0.9541 - lr: 4.7830e-11\n",
      "Epoch 47/50\n",
      "166/166 [==============================] - ETA: 0s - loss: 0.0361 - accuracy: 0.9877\n",
      "Epoch 47: val_accuracy did not improve from 0.95408\n",
      "\n",
      "Epoch 47: ReduceLROnPlateau reducing learning rate to 1.434890747886719e-11.\n",
      "166/166 [==============================] - 235s 1s/step - loss: 0.0361 - accuracy: 0.9877 - val_loss: 0.3787 - val_accuracy: 0.9541 - lr: 4.7830e-11\n",
      "Epoch 48/50\n",
      "166/166 [==============================] - ETA: 0s - loss: 0.0422 - accuracy: 0.9847\n",
      "Epoch 48: val_accuracy did not improve from 0.95408\n",
      "166/166 [==============================] - 231s 1s/step - loss: 0.0422 - accuracy: 0.9847 - val_loss: 0.3787 - val_accuracy: 0.9541 - lr: 1.4349e-11\n",
      "Epoch 49/50\n",
      "166/166 [==============================] - ETA: 0s - loss: 0.0378 - accuracy: 0.9866\n",
      "Epoch 49: val_accuracy did not improve from 0.95408\n",
      "\n",
      "Epoch 49: ReduceLROnPlateau reducing learning rate to 4.304672243660157e-12.\n",
      "166/166 [==============================] - 227s 1s/step - loss: 0.0378 - accuracy: 0.9866 - val_loss: 0.3787 - val_accuracy: 0.9541 - lr: 1.4349e-11\n",
      "Epoch 50/50\n",
      "166/166 [==============================] - ETA: 0s - loss: 0.0444 - accuracy: 0.9851\n",
      "Epoch 50: val_accuracy did not improve from 0.95408\n",
      "166/166 [==============================] - 233s 1s/step - loss: 0.0444 - accuracy: 0.9851 - val_loss: 0.3787 - val_accuracy: 0.9541 - lr: 4.3047e-12\n"
     ]
    }
   ],
   "source": [
    "history = model.fit(X_train_features, y_train, validation_split=0.1, epochs=50, verbose=1, batch_size=32, callbacks=[tensorboard,checkpoint,reduce_lr])"
   ]
  },
  {
   "cell_type": "markdown",
   "metadata": {},
   "source": [
    "# **\"Training and Validation Accuracy/Loss Over Epochs\"**"
   ]
  },
  {
   "cell_type": "code",
   "execution_count": 25,
   "metadata": {
    "execution": {
     "iopub.execute_input": "2023-12-13T04:18:43.038438Z",
     "iopub.status.busy": "2023-12-13T04:18:43.036941Z",
     "iopub.status.idle": "2023-12-13T04:18:43.634233Z",
     "shell.execute_reply": "2023-12-13T04:18:43.633442Z",
     "shell.execute_reply.started": "2023-12-13T04:18:43.038408Z"
    }
   },
   "outputs": [
    {
     "data": {
      "image/png": "[encoded data removed]",
      "text/plain": [
       "<Figure size 1400x700 with 2 Axes>"
      ]
     },
     "metadata": {},
     "output_type": "display_data"
    }
   ],
   "source": [
    "filterwarnings('ignore')\n",
    "\n",
    "epochs = [i for i in range(50)]\n",
    "fig, ax = plt.subplots(1,2,figsize=(14,7))\n",
    "train_acc = history.history['accuracy']\n",
    "train_loss = history.history['loss']\n",
    "val_acc = history.history['val_accuracy']\n",
    "val_loss = history.history['val_loss']\n",
    "\n",
    "fig.text(s='Epochs vs. Training and Validation Accuracy/Loss',size=18,fontweight='bold',\n",
    "             fontname='monospace',color=colors_dark[1],y=1,x=0.28,alpha=0.8)\n",
    "\n",
    "sns.despine()\n",
    "ax[0].plot(epochs, train_acc, marker='o',markerfacecolor=colors_green[2],color=colors_green[3],\n",
    "           label = 'Training Accuracy')\n",
    "ax[0].plot(epochs, val_acc, marker='o',markerfacecolor=colors_red[2],color=colors_red[3],\n",
    "           label = 'Validation Accuracy')\n",
    "ax[0].legend(frameon=False)\n",
    "ax[0].set_xlabel('Epochs')\n",
    "ax[0].set_ylabel('Accuracy')\n",
    "\n",
    "sns.despine()\n",
    "ax[1].plot(epochs, train_loss, marker='o',markerfacecolor=colors_green[2],color=colors_green[3],\n",
    "           label ='Training Loss')\n",
    "ax[1].plot(epochs, val_loss, marker='o',markerfacecolor=colors_red[2],color=colors_red[3],\n",
    "           label = 'Validation Loss')\n",
    "ax[1].legend(frameon=False)\n",
    "ax[1].set_xlabel('Epochs')\n",
    "ax[1].set_ylabel('Training & Validation Loss')\n",
    "\n",
    "fig.show()"
   ]
  },
  {
   "cell_type": "markdown",
   "metadata": {},
   "source": [
    "# **\"Model Evaluation on Test Data\"**"
   ]
  },
  {
   "cell_type": "code",
   "execution_count": 26,
   "metadata": {
    "execution": {
     "iopub.execute_input": "2023-12-13T04:19:54.359237Z",
     "iopub.status.busy": "2023-12-13T04:19:54.358865Z",
     "iopub.status.idle": "2023-12-13T04:19:59.390265Z",
     "shell.execute_reply": "2023-12-13T04:19:59.389630Z",
     "shell.execute_reply.started": "2023-12-13T04:19:54.359209Z"
    }
   },
   "outputs": [
    {
     "name": "stdout",
     "output_type": "stream",
     "text": [
      "21/21 [==============================] - 3s 131ms/step - loss: 0.2333 - accuracy: 0.9724\n"
     ]
    },
    {
     "data": {
      "text/plain": [
       "[0.23330025374889374, 0.972434937953949]"
      ]
     },
     "execution_count": 26,
     "metadata": {},
     "output_type": "execute_result"
    }
   ],
   "source": [
    "model.evaluate(X_test_features, y_test)"
   ]
  },
  {
   "cell_type": "markdown",
   "metadata": {},
   "source": [
    "# **\"Model Evaluation and Performance Analysis\"**"
   ]
  },
  {
   "cell_type": "code",
   "execution_count": 27,
   "metadata": {
    "execution": {
     "iopub.execute_input": "2023-12-13T04:21:43.419699Z",
     "iopub.status.busy": "2023-12-13T04:21:43.419245Z",
     "iopub.status.idle": "2023-12-13T04:21:51.006920Z",
     "shell.execute_reply": "2023-12-13T04:21:51.005809Z",
     "shell.execute_reply.started": "2023-12-13T04:21:43.419668Z"
    }
   },
   "outputs": [
    {
     "name": "stdout",
     "output_type": "stream",
     "text": [
      "21/21 [==============================] - 5s 129ms/step\n"
     ]
    }
   ],
   "source": [
    "pred = model.predict(X_test_features)\n",
    "pred = np.argmax(pred,axis=1)\n",
    "y_test_new = np.argmax(y_test,axis=1)"
   ]
  },
  {
   "cell_type": "markdown",
   "metadata": {},
   "source": [
    "# **\"Classification Report for Brain Tumor Classification\"**"
   ]
  },
  {
   "cell_type": "code",
   "execution_count": 28,
   "metadata": {
    "execution": {
     "iopub.execute_input": "2023-12-13T04:22:43.028991Z",
     "iopub.status.busy": "2023-12-13T04:22:43.028604Z",
     "iopub.status.idle": "2023-12-13T04:22:43.046727Z",
     "shell.execute_reply": "2023-12-13T04:22:43.044958Z",
     "shell.execute_reply.started": "2023-12-13T04:22:43.028961Z"
    }
   },
   "outputs": [
    {
     "name": "stdout",
     "output_type": "stream",
     "text": [
      "              precision    recall  f1-score   support\n",
      "\n",
      "           0       0.99      0.94      0.96       190\n",
      "           1       0.96      0.99      0.98        99\n",
      "           2       0.97      0.98      0.97       189\n",
      "           3       0.97      0.99      0.98       175\n",
      "\n",
      "    accuracy                           0.97       653\n",
      "   macro avg       0.97      0.97      0.97       653\n",
      "weighted avg       0.97      0.97      0.97       653\n",
      "\n"
     ]
    }
   ],
   "source": [
    "print(classification_report(y_test_new,pred))"
   ]
  },
  {
   "cell_type": "markdown",
   "metadata": {},
   "source": [
    "# **\"Heatmap of Confusion Matrix for Brain Tumor Classification\"**"
   ]
  },
  {
   "cell_type": "code",
   "execution_count": 29,
   "metadata": {
    "execution": {
     "iopub.execute_input": "2023-12-13T04:24:06.713635Z",
     "iopub.status.busy": "2023-12-13T04:24:06.713098Z",
     "iopub.status.idle": "2023-12-13T04:24:07.033899Z",
     "shell.execute_reply": "2023-12-13T04:24:07.032704Z",
     "shell.execute_reply.started": "2023-12-13T04:24:06.713602Z"
    }
   },
   "outputs": [
    {
     "data": {
      "image/png": "[encoded data removed]",
      "text/plain": [
       "<Figure size 1400x700 with 2 Axes>"
      ]
     },
     "metadata": {},
     "output_type": "display_data"
    }
   ],
   "source": [
    "fig,ax=plt.subplots(1,1,figsize=(14,7))\n",
    "sns.heatmap(confusion_matrix(y_test_new,pred),ax=ax,xticklabels=labels,yticklabels=labels,annot=True, cmap=colors_green[::-1],alpha=0.7,linewidths=2,linecolor=colors_dark[3])\n",
    "fig.text(s='Heatmap of the Confusion Matrix',size=18,fontweight='bold',fontname='monospace',color=colors_dark[1],y=0.92,x=0.28,alpha=0.8)\n",
    "plt.show()"
   ]
  }
 ],
 "metadata": {
  "kaggle": {
   "accelerator": "none",
   "dataSources": [
    {
     "datasetId": 672377,
     "sourceId": 1183165,
     "sourceType": "datasetVersion"
    }
   ],
   "dockerImageVersionId": 30615,
   "isGpuEnabled": false,
   "isInternetEnabled": true,
   "language": "python",
   "sourceType": "notebook"
  },
  "kernelspec": {
   "display_name": "Python 3 (ipykernel)",
   "language": "python",
   "name": "python3"
  },
  "language_info": {
   "codemirror_mode": {
    "name": "ipython",
    "version": 3
   },
   "file_extension": ".py",
   "mimetype": "text/x-python",
   "name": "python",
   "nbconvert_exporter": "python",
   "pygments_lexer": "ipython3",
   "version": "3.11.5"
  }
 },
 "nbformat": 4,
 "nbformat_minor": 4
}
