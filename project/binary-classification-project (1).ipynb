{
 "cells": [
  {
   "cell_type": "code",
   "execution_count": null,
   "metadata": {
    "_cell_guid": "b1076dfc-b9ad-4769-8c92-a6c4dae69d19",
    "_uuid": "8f2839f25d086af736a60e9eeb907d3b93b6e0e5",
    "execution": {
     "iopub.execute_input": "2023-12-14T22:27:50.063610Z",
     "iopub.status.busy": "2023-12-14T22:27:50.063240Z",
     "iopub.status.idle": "2023-12-14T22:27:51.275121Z",
     "shell.execute_reply": "2023-12-14T22:27:51.273029Z",
     "shell.execute_reply.started": "2023-12-14T22:27:50.063579Z"
    }
   },
   "outputs": [],
   "source": [
    "# This Python 3 environment comes with many helpful analytics libraries installed\n",
    "# It is defined by the kaggle/python Docker image: https://github.com/kaggle/docker-python\n",
    "# For example, here's several helpful packages to load\n",
    "\n",
    "import numpy as np # linear algebra\n",
    "import pandas as pd # data processing, CSV file I/O (e.g. pd.read_csv)\n",
    "\n",
    "# Input data files are available in the read-only \"../input/\" directory\n",
    "# For example, running this (by clicking run or pressing Shift+Enter) will list all files under the input directory\n",
    "\n",
    "import os\n",
    "for dirname, _, filenames in os.walk('/kaggle/input'):\n",
    "    for filename in filenames:\n",
    "        print(os.path.join(dirname, filename))\n",
    "\n",
    "# You can write up to 20GB to the current directory (/kaggle/working/) that gets preserved as output when you create a version using \"Save & Run All\" \n",
    "# You can also write temporary files to /kaggle/temp/, but they won't be saved outside of the current session"
   ]
  },
  {
   "cell_type": "markdown",
   "metadata": {},
   "source": [
    "# **Abstract work**"
   ]
  },
  {
   "cell_type": "markdown",
   "metadata": {},
   "source": [
    "Abstract:\n",
    "Brain tumors pose a significant health concern, necessitating accurate diagnostic tools for effective treatment planning. This project introduces a classification system that merges Convolutional Neural Network (CNN) and Long Short-Term Memory (LSTM) layers to analyze Magnetic Resonance Imaging (MRI) brain scans and detect signs of brain cancer, focusing on binary classification (Glioma Tumor vs. No Tumor).\n",
    "\n",
    "Project Definition: Brain Cancer Binary Classification System Using Fusion of CNN and LSTM Layers\n",
    "\n",
    "Background:\n",
    "Brain cancer remains a critical health issue, demanding precise diagnostic solutions. This project aims to design a binary classification system utilizing CNN and LSTM layers to analyze MRI brain scans and accurately identify the presence or absence of Glioma Tumor.\n",
    "\n",
    "Objective:\n",
    "The primary goal is to develop a sophisticated binary classification system for MRI brain scans, enhancing accuracy in Glioma Tumor detection. This system aims to provide valuable support to healthcare professionals in making informed decisions about potential brain cancer.\n",
    "\n",
    "Expected Steps:\n",
    "\n",
    "1. Data Collection:\n",
    "   - Utilize the Kaggle dataset \"Brain Tumor Classification (MRI)\" to acquire labeled MRI brain scans, focusing on Glioma Tumor and No Tumor categories.\n",
    "\n",
    "2. Image Processing:\n",
    "   - Preprocess images, including resizing and normalization, to prepare them for input into the CNN-LSTM model.\n",
    "\n",
    "3. Model Architecture:\n",
    "   - Construct a hybrid model featuring CNN layers for spatial feature extraction and LSTM layers for analyzing temporal patterns. Employ a pre-trained ResNet architecture for the CNN component.\n",
    "\n",
    "4. Training and Validation:\n",
    "   - Train the model on the labeled dataset, utilizing transfer learning for the ResNet component. Validate the model's performance on a separate dataset.\n",
    "\n",
    "5. Hyperparameter Tuning:\n",
    "   - Optimize hyperparameters to enhance the model's binary classification accuracy.\n",
    "\n",
    "6. Evaluation Metrics:\n",
    "   - Assess the model's performance using binary classification metrics such as accuracy, precision, recall, and F1 score.\n",
    "\n",
    "7. Integration and Deployment:\n",
    "   - Integrate the trained model into a user-friendly system suitable for binary brain cancer classification.\n",
    "\n",
    "Technologies Used:\n",
    "- Convolutional Neural Network (CNN) with ResNet architecture\n",
    "- Long Short-Term Memory (LSTM)\n",
    "- Transfer Learning\n",
    "- TensorFlow and Keras (deep learning libraries)\n",
    "- Python (for code implementation)\n",
    "\n",
    "Expected Outputs:\n",
    "- A robust binary classification model for Glioma Tumor detection.\n",
    "- Evaluation metrics report showcasing the model's effectiveness.\n",
    "- Integrated software for binary brain cancer classification from MRI scans.\n",
    "\n",
    "Note: Ensure compliance with the dataset's terms of use and appropriate citation in project documentation."
   ]
  },
  {
   "cell_type": "markdown",
   "metadata": {},
   "source": [
    "# **Introduction to Dataset¶**"
   ]
  },
  {
   "cell_type": "markdown",
   "metadata": {},
   "source": [
    "A Brain tumor is considered as one of the most aggressive diseases, among children and adults. The 5-year survival rate for people with a cancerous brain or CNS tumor is approximately 34 percent for men and 36 percent for women. And the best technique to detect brain tumors is Magnetic Resonance Imaging (MRI). The dataset is contributed by Navoneel Chakrabarty and Swati Kanchan.\n",
    "\n",
    "This dataset provides a huge amount of image data generated through the scans. These images are typically examined by the radiologist. However, a manual examination can be error-prone due to the complexities. Hence, proposing a system performing detection and classification is the main goal of this dataset."
   ]
  },
  {
   "cell_type": "markdown",
   "metadata": {},
   "source": [
    "# **import libraries**"
   ]
  },
  {
   "cell_type": "code",
   "execution_count": 2,
   "metadata": {
    "execution": {
     "iopub.execute_input": "2023-12-14T22:29:39.028809Z",
     "iopub.status.busy": "2023-12-14T22:29:39.028344Z",
     "iopub.status.idle": "2023-12-14T22:29:54.007328Z",
     "shell.execute_reply": "2023-12-14T22:29:54.006030Z",
     "shell.execute_reply.started": "2023-12-14T22:29:39.028780Z"
    }
   },
   "outputs": [],
   "source": [
    "import matplotlib.pyplot as plt\n",
    "import numpy as np\n",
    "import pandas as pd\n",
    "import seaborn as sns\n",
    "import cv2\n",
    "import tensorflow as tf\n",
    "from tensorflow.keras.preprocessing.image import ImageDataGenerator\n",
    "from tqdm import tqdm\n",
    "import os\n",
    "from sklearn.utils import shuffle\n",
    "from sklearn.model_selection import train_test_split\n",
    "from tensorflow.keras.applications.resnet50 import ResNet50, preprocess_input\n",
    "from tensorflow.keras.callbacks import EarlyStopping, ReduceLROnPlateau, TensorBoard, ModelCheckpoint\n",
    "from sklearn.metrics import classification_report, confusion_matrix\n",
    "import ipywidgets as widgets\n",
    "import io\n",
    "from PIL import Image\n",
    "from IPython.display import display, clear_output\n",
    "from warnings import filterwarnings"
   ]
  },
  {
   "cell_type": "markdown",
   "metadata": {},
   "source": [
    "# **\"Custom Color Palettes for Enhanced Visualizations\"**"
   ]
  },
  {
   "cell_type": "code",
   "execution_count": 3,
   "metadata": {
    "execution": {
     "iopub.execute_input": "2023-12-14T22:30:17.267969Z",
     "iopub.status.busy": "2023-12-14T22:30:17.267251Z",
     "iopub.status.idle": "2023-12-14T22:30:17.274113Z",
     "shell.execute_reply": "2023-12-14T22:30:17.272718Z",
     "shell.execute_reply.started": "2023-12-14T22:30:17.267934Z"
    }
   },
   "outputs": [],
   "source": [
    "colors_dark = [\"#1F1F1F\", \"#313131\", '#636363', '#AEAEAE', '#DADADA']\n",
    "colors_red = [\"#331313\", \"#582626\", '#9E1717', '#D35151', '#E9B4B4']\n",
    "colors_green = ['#01411C','#4B6F44','#4F7942','#74C365','#D0F0C0']"
   ]
  },
  {
   "cell_type": "markdown",
   "metadata": {},
   "source": [
    "# **\"Data Augmentation with Random Rotation and Flip in TensorFlow\"**"
   ]
  },
  {
   "cell_type": "code",
   "execution_count": 4,
   "metadata": {
    "execution": {
     "iopub.execute_input": "2023-12-14T22:30:54.530718Z",
     "iopub.status.busy": "2023-12-14T22:30:54.530264Z",
     "iopub.status.idle": "2023-12-14T22:30:54.563274Z",
     "shell.execute_reply": "2023-12-14T22:30:54.561662Z",
     "shell.execute_reply.started": "2023-12-14T22:30:54.530686Z"
    }
   },
   "outputs": [],
   "source": [
    "rot = tf.keras.layers.RandomRotation(factor=0.2)\n",
    "flip = tf.keras.layers.RandomFlip(mode=\"horizontal_and_vertical\")"
   ]
  },
  {
   "cell_type": "code",
   "execution_count": 6,
   "metadata": {
    "execution": {
     "iopub.execute_input": "2023-12-14T22:34:13.157770Z",
     "iopub.status.busy": "2023-12-14T22:34:13.157352Z",
     "iopub.status.idle": "2023-12-14T22:34:13.163042Z",
     "shell.execute_reply": "2023-12-14T22:34:13.161439Z",
     "shell.execute_reply.started": "2023-12-14T22:34:13.157737Z"
    }
   },
   "outputs": [],
   "source": [
    "def augment(images):\n",
    "    for i in range(len(images)):\n",
    "        flipped = flip(images[i])\n",
    "        images[i] = rot(flipped)\n",
    "    \n",
    "    return images"
   ]
  },
  {
   "cell_type": "markdown",
   "metadata": {},
   "source": [
    "# **\"Loading and Preprocessing Brain Tumor MRI Images for Classification\"**"
   ]
  },
  {
   "cell_type": "code",
   "execution_count": 7,
   "metadata": {
    "execution": {
     "iopub.execute_input": "2023-12-14T22:34:55.806314Z",
     "iopub.status.busy": "2023-12-14T22:34:55.805909Z",
     "iopub.status.idle": "2023-12-14T22:35:10.565754Z",
     "shell.execute_reply": "2023-12-14T22:35:10.564445Z",
     "shell.execute_reply.started": "2023-12-14T22:34:55.806267Z"
    }
   },
   "outputs": [
    {
     "name": "stderr",
     "output_type": "stream",
     "text": [
      "100%|██████████| 826/826 [00:08<00:00, 92.04it/s]\n",
      "100%|██████████| 395/395 [00:03<00:00, 102.79it/s]\n",
      "100%|██████████| 100/100 [00:01<00:00, 91.95it/s]\n",
      "100%|██████████| 105/105 [00:00<00:00, 128.58it/s]\n"
     ]
    }
   ],
   "source": [
    "labels = ['glioma_tumor', 'no_tumor']\n",
    "\n",
    "X_train = []\n",
    "y_train = []\n",
    "image_size = 224\n",
    "\n",
    "for i in labels:\n",
    "    folderPath = os.path.join('../input/brain-tumor-classification-mri', 'Training', i)\n",
    "    for j in tqdm(os.listdir(folderPath)):\n",
    "        img = cv2.imread(os.path.join(folderPath, j))\n",
    "        img = cv2.resize(img, (image_size, image_size))\n",
    "        img = preprocess_input(img)\n",
    "        X_train.append(img)\n",
    "        y_train.append(i)\n",
    "\n",
    "for i in labels:\n",
    "    folderPath = os.path.join('../input/brain-tumor-classification-mri', 'Testing', i)\n",
    "    for j in tqdm(os.listdir(folderPath)):\n",
    "        img = cv2.imread(os.path.join(folderPath, j))\n",
    "        img = cv2.resize(img, (image_size, image_size))\n",
    "        img = preprocess_input(img)\n",
    "        X_train.append(img)\n",
    "        y_train.append(i)\n"
   ]
  },
  {
   "cell_type": "code",
   "execution_count": 8,
   "metadata": {
    "execution": {
     "iopub.execute_input": "2023-12-14T22:37:10.322496Z",
     "iopub.status.busy": "2023-12-14T22:37:10.322098Z",
     "iopub.status.idle": "2023-12-14T22:37:11.238168Z",
     "shell.execute_reply": "2023-12-14T22:37:11.236995Z",
     "shell.execute_reply.started": "2023-12-14T22:37:10.322467Z"
    }
   },
   "outputs": [],
   "source": [
    "X_train = np.array(X_train)\n",
    "y_train = np.array(y_train)"
   ]
  },
  {
   "cell_type": "markdown",
   "metadata": {},
   "source": [
    "# **\"Converting Multiclass Labels to Binary Representation\"**"
   ]
  },
  {
   "cell_type": "code",
   "execution_count": 9,
   "metadata": {
    "execution": {
     "iopub.execute_input": "2023-12-14T22:44:47.100088Z",
     "iopub.status.busy": "2023-12-14T22:44:47.099716Z",
     "iopub.status.idle": "2023-12-14T22:44:47.106021Z",
     "shell.execute_reply": "2023-12-14T22:44:47.104703Z",
     "shell.execute_reply.started": "2023-12-14T22:44:47.100055Z"
    }
   },
   "outputs": [],
   "source": [
    "y_train = np.array([0 if label == 'glioma_tumor' else 1 for label in y_train])"
   ]
  },
  {
   "cell_type": "markdown",
   "metadata": {},
   "source": [
    "# **\"Augmenting Brain Tumor Image Data for Improved Model Performance\"**"
   ]
  },
  {
   "cell_type": "code",
   "execution_count": 10,
   "metadata": {
    "execution": {
     "iopub.execute_input": "2023-12-14T22:46:38.863361Z",
     "iopub.status.busy": "2023-12-14T22:46:38.862964Z",
     "iopub.status.idle": "2023-12-14T22:46:59.052110Z",
     "shell.execute_reply": "2023-12-14T22:46:59.050979Z",
     "shell.execute_reply.started": "2023-12-14T22:46:38.863318Z"
    }
   },
   "outputs": [],
   "source": [
    "X_train = np.vstack((X_train, augment(X_train)))\n",
    "y_train = np.hstack((y_train, y_train.copy()))"
   ]
  },
  {
   "cell_type": "markdown",
   "metadata": {},
   "source": [
    "# **\"Checking the Shape of Augmented Brain Tumor Image Data and Labels\"**"
   ]
  },
  {
   "cell_type": "code",
   "execution_count": 11,
   "metadata": {
    "execution": {
     "iopub.execute_input": "2023-12-14T22:51:20.559663Z",
     "iopub.status.busy": "2023-12-14T22:51:20.559247Z",
     "iopub.status.idle": "2023-12-14T22:51:20.569543Z",
     "shell.execute_reply": "2023-12-14T22:51:20.567911Z",
     "shell.execute_reply.started": "2023-12-14T22:51:20.559630Z"
    }
   },
   "outputs": [
    {
     "data": {
      "text/plain": [
       "((2852, 224, 224, 3), (2852,))"
      ]
     },
     "execution_count": 11,
     "metadata": {},
     "output_type": "execute_result"
    }
   ],
   "source": [
    "X_train.shape, y_train.shape"
   ]
  },
  {
   "cell_type": "markdown",
   "metadata": {},
   "source": [
    "# **\"Shuffling Augmented Brain Tumor Image Data and Labels\"**"
   ]
  },
  {
   "cell_type": "code",
   "execution_count": 12,
   "metadata": {
    "execution": {
     "iopub.execute_input": "2023-12-14T22:55:16.219601Z",
     "iopub.status.busy": "2023-12-14T22:55:16.219198Z",
     "iopub.status.idle": "2023-12-14T22:55:16.554135Z",
     "shell.execute_reply": "2023-12-14T22:55:16.552506Z",
     "shell.execute_reply.started": "2023-12-14T22:55:16.219569Z"
    }
   },
   "outputs": [],
   "source": [
    "X_train, y_train = shuffle(X_train, y_train, random_state=101)"
   ]
  },
  {
   "cell_type": "markdown",
   "metadata": {},
   "source": [
    "# **\"Splitting Augmented Brain Tumor Data into Training and Testing Sets\"**"
   ]
  },
  {
   "cell_type": "code",
   "execution_count": 13,
   "metadata": {
    "execution": {
     "iopub.execute_input": "2023-12-14T22:57:00.345149Z",
     "iopub.status.busy": "2023-12-14T22:57:00.344374Z",
     "iopub.status.idle": "2023-12-14T22:57:00.677121Z",
     "shell.execute_reply": "2023-12-14T22:57:00.675674Z",
     "shell.execute_reply.started": "2023-12-14T22:57:00.345113Z"
    }
   },
   "outputs": [],
   "source": [
    "X_train, X_test, y_train, y_test = train_test_split(X_train, y_train, test_size=0.1, random_state=101)"
   ]
  },
  {
   "cell_type": "markdown",
   "metadata": {},
   "source": [
    "# **\"Checking the Shape of Training and Testing Data after Split\"**"
   ]
  },
  {
   "cell_type": "code",
   "execution_count": 14,
   "metadata": {
    "execution": {
     "iopub.execute_input": "2023-12-14T22:58:48.404007Z",
     "iopub.status.busy": "2023-12-14T22:58:48.403619Z",
     "iopub.status.idle": "2023-12-14T22:58:48.411961Z",
     "shell.execute_reply": "2023-12-14T22:58:48.410585Z",
     "shell.execute_reply.started": "2023-12-14T22:58:48.403975Z"
    }
   },
   "outputs": [
    {
     "data": {
      "text/plain": [
       "((2566, 224, 224, 3), (286, 224, 224, 3))"
      ]
     },
     "execution_count": 14,
     "metadata": {},
     "output_type": "execute_result"
    }
   ],
   "source": [
    "X_train.shape, X_test.shape"
   ]
  },
  {
   "cell_type": "markdown",
   "metadata": {},
   "source": [
    "# **\"Loading ResNet50 Model for Feature Extraction\"¶**"
   ]
  },
  {
   "cell_type": "code",
   "execution_count": 15,
   "metadata": {
    "execution": {
     "iopub.execute_input": "2023-12-14T23:06:47.974930Z",
     "iopub.status.busy": "2023-12-14T23:06:47.974558Z",
     "iopub.status.idle": "2023-12-14T23:06:50.870934Z",
     "shell.execute_reply": "2023-12-14T23:06:50.869797Z",
     "shell.execute_reply.started": "2023-12-14T23:06:47.974902Z"
    }
   },
   "outputs": [
    {
     "name": "stdout",
     "output_type": "stream",
     "text": [
      "Downloading data from https://storage.googleapis.com/tensorflow/keras-applications/resnet/resnet50_weights_tf_dim_ordering_tf_kernels_notop.h5\n",
      "94765736/94765736 [==============================] - 0s 0us/step\n"
     ]
    }
   ],
   "source": [
    "r50 = tf.keras.applications.ResNet50(weights='imagenet', include_top=False, input_shape=(image_size, image_size, 3))"
   ]
  },
  {
   "cell_type": "markdown",
   "metadata": {},
   "source": [
    "# **\"Generating Predictions Using ResNet50 for Training and Testing Data\"**"
   ]
  },
  {
   "cell_type": "code",
   "execution_count": 16,
   "metadata": {
    "execution": {
     "iopub.execute_input": "2023-12-14T23:16:24.326947Z",
     "iopub.status.busy": "2023-12-14T23:16:24.326496Z",
     "iopub.status.idle": "2023-12-14T23:20:07.776384Z",
     "shell.execute_reply": "2023-12-14T23:20:07.774423Z",
     "shell.execute_reply.started": "2023-12-14T23:16:24.326911Z"
    }
   },
   "outputs": [
    {
     "name": "stdout",
     "output_type": "stream",
     "text": [
      "81/81 [==============================] - 172s 2s/step\n",
      "9/9 [==============================] - 19s 2s/step\n"
     ]
    }
   ],
   "source": [
    "X_train_preds = r50.predict(X_train)\n",
    "X_test_preds = r50.predict(X_test)"
   ]
  },
  {
   "cell_type": "markdown",
   "metadata": {},
   "source": [
    "# **\"Reshaped ResNet50 Extracted Features for Training and Testing Datasets\"**"
   ]
  },
  {
   "cell_type": "code",
   "execution_count": 17,
   "metadata": {
    "execution": {
     "iopub.execute_input": "2023-12-14T23:48:22.899387Z",
     "iopub.status.busy": "2023-12-14T23:48:22.898911Z",
     "iopub.status.idle": "2023-12-14T23:48:22.904715Z",
     "shell.execute_reply": "2023-12-14T23:48:22.903818Z",
     "shell.execute_reply.started": "2023-12-14T23:48:22.899352Z"
    }
   },
   "outputs": [],
   "source": [
    "X_train_features = X_train_preds.reshape((X_train_preds.shape[0], -1))\n",
    "X_test_features = X_test_preds.reshape((X_test_preds.shape[0], -1))"
   ]
  },
  {
   "cell_type": "markdown",
   "metadata": {},
   "source": [
    "# **\"Cascaded CNN-LSTM Model for Brain Tumor Classification\"**"
   ]
  },
  {
   "cell_type": "code",
   "execution_count": 18,
   "metadata": {
    "execution": {
     "iopub.execute_input": "2023-12-14T23:51:48.817361Z",
     "iopub.status.busy": "2023-12-14T23:51:48.816964Z",
     "iopub.status.idle": "2023-12-14T23:51:50.388261Z",
     "shell.execute_reply": "2023-12-14T23:51:50.385683Z",
     "shell.execute_reply.started": "2023-12-14T23:51:48.817330Z"
    }
   },
   "outputs": [],
   "source": [
    "model = tf.keras.models.Sequential([\n",
    "    tf.keras.layers.Reshape((1, -1), input_shape=(X_train_features.shape[1],)),\n",
    "    tf.keras.layers.LSTM(512, activation='relu', return_sequences=True),\n",
    "    tf.keras.layers.Dropout(0.2),\n",
    "    tf.keras.layers.LSTM(256, activation='relu', return_sequences=True),\n",
    "    tf.keras.layers.Dropout(0.2),\n",
    "    tf.keras.layers.LSTM(128, activation='relu', return_sequences=True),\n",
    "    tf.keras.layers.Dropout(0.2),\n",
    "    tf.keras.layers.LSTM(64, activation='relu'),\n",
    "    tf.keras.layers.Dropout(0.2),\n",
    "    tf.keras.layers.Dense(1, activation='sigmoid')  # Binary classification, use sigmoid\n",
    "])"
   ]
  },
  {
   "cell_type": "markdown",
   "metadata": {},
   "source": [
    "# **\"Summary of Cascaded CNN-LSTM Model for Brain Tumor Classification\"**"
   ]
  },
  {
   "cell_type": "code",
   "execution_count": 19,
   "metadata": {
    "execution": {
     "iopub.execute_input": "2023-12-14T23:52:29.988581Z",
     "iopub.status.busy": "2023-12-14T23:52:29.988181Z",
     "iopub.status.idle": "2023-12-14T23:52:30.023251Z",
     "shell.execute_reply": "2023-12-14T23:52:30.022387Z",
     "shell.execute_reply.started": "2023-12-14T23:52:29.988550Z"
    }
   },
   "outputs": [
    {
     "name": "stdout",
     "output_type": "stream",
     "text": [
      "Model: \"sequential\"\n",
      "_________________________________________________________________\n",
      " Layer (type)                Output Shape              Param #   \n",
      "=================================================================\n",
      " reshape (Reshape)           (None, 1, 100352)         0         \n",
      "                                                                 \n",
      " lstm (LSTM)                 (None, 1, 512)            206571520 \n",
      "                                                                 \n",
      " dropout (Dropout)           (None, 1, 512)            0         \n",
      "                                                                 \n",
      " lstm_1 (LSTM)               (None, 1, 256)            787456    \n",
      "                                                                 \n",
      " dropout_1 (Dropout)         (None, 1, 256)            0         \n",
      "                                                                 \n",
      " lstm_2 (LSTM)               (None, 1, 128)            197120    \n",
      "                                                                 \n",
      " dropout_2 (Dropout)         (None, 1, 128)            0         \n",
      "                                                                 \n",
      " lstm_3 (LSTM)               (None, 64)                49408     \n",
      "                                                                 \n",
      " dropout_3 (Dropout)         (None, 64)                0         \n",
      "                                                                 \n",
      " dense (Dense)               (None, 1)                 65        \n",
      "                                                                 \n",
      "=================================================================\n",
      "Total params: 207605569 (791.95 MB)\n",
      "Trainable params: 207605569 (791.95 MB)\n",
      "Non-trainable params: 0 (0.00 Byte)\n",
      "_________________________________________________________________\n"
     ]
    }
   ],
   "source": [
    "model.summary()"
   ]
  },
  {
   "cell_type": "markdown",
   "metadata": {},
   "source": [
    "# **\"Compiling Cascaded CNN-LSTM Model for Brain Tumor Classification\"**"
   ]
  },
  {
   "cell_type": "code",
   "execution_count": 20,
   "metadata": {
    "execution": {
     "iopub.execute_input": "2023-12-14T23:53:18.414149Z",
     "iopub.status.busy": "2023-12-14T23:53:18.413774Z",
     "iopub.status.idle": "2023-12-14T23:53:18.438041Z",
     "shell.execute_reply": "2023-12-14T23:53:18.437342Z",
     "shell.execute_reply.started": "2023-12-14T23:53:18.414119Z"
    }
   },
   "outputs": [],
   "source": [
    "model.compile(loss='binary_crossentropy', optimizer='Adam', metrics=['accuracy'])"
   ]
  },
  {
   "cell_type": "markdown",
   "metadata": {},
   "source": [
    "# **\"Configuring Callbacks for CNN-LSTM Model Training\"**"
   ]
  },
  {
   "cell_type": "code",
   "execution_count": 21,
   "metadata": {
    "execution": {
     "iopub.execute_input": "2023-12-14T23:55:19.246807Z",
     "iopub.status.busy": "2023-12-14T23:55:19.246423Z",
     "iopub.status.idle": "2023-12-14T23:55:19.258009Z",
     "shell.execute_reply": "2023-12-14T23:55:19.257004Z",
     "shell.execute_reply.started": "2023-12-14T23:55:19.246774Z"
    }
   },
   "outputs": [],
   "source": [
    "tensorboard = TensorBoard(log_dir='logs')\n",
    "checkpoint = ModelCheckpoint(\"bestomodelo.h5\", monitor=\"val_accuracy\", save_best_only=True, mode=\"auto\", verbose=1)\n",
    "reduce_lr = ReduceLROnPlateau(monitor='val_accuracy', factor=0.3, patience=2, min_delta=0.001, mode='auto', verbose=1)"
   ]
  },
  {
   "cell_type": "markdown",
   "metadata": {},
   "source": [
    "# **\"Training CNN-LSTM Model with ResNet Features\"**"
   ]
  },
  {
   "cell_type": "code",
   "execution_count": 22,
   "metadata": {
    "execution": {
     "iopub.execute_input": "2023-12-14T23:56:25.854018Z",
     "iopub.status.busy": "2023-12-14T23:56:25.853644Z",
     "iopub.status.idle": "2023-12-15T01:38:53.490535Z",
     "shell.execute_reply": "2023-12-15T01:38:53.485942Z",
     "shell.execute_reply.started": "2023-12-14T23:56:25.853987Z"
    }
   },
   "outputs": [
    {
     "name": "stdout",
     "output_type": "stream",
     "text": [
      "Epoch 1/50\n",
      "73/73 [==============================] - ETA: 0s - loss: 0.5580 - accuracy: 0.7375\n",
      "Epoch 1: val_accuracy improved from -inf to 0.89883, saving model to bestomodelo.h5\n"
     ]
    },
    {
     "name": "stderr",
     "output_type": "stream",
     "text": [
      "/opt/conda/lib/python3.10/site-packages/keras/src/engine/training.py:3000: UserWarning: You are saving your model as an HDF5 file via `model.save()`. This file format is considered legacy. We recommend using instead the native Keras format, e.g. `model.save('my_model.keras')`.\n",
      "  saving_api.save_model(\n"
     ]
    },
    {
     "name": "stdout",
     "output_type": "stream",
     "text": [
      "73/73 [==============================] - 107s 1s/step - loss: 0.5580 - accuracy: 0.7375 - val_loss: 0.2629 - val_accuracy: 0.8988 - lr: 0.0010\n",
      "Epoch 2/50\n",
      "73/73 [==============================] - ETA: 0s - loss: 0.3959 - accuracy: 0.8489\n",
      "Epoch 2: val_accuracy improved from 0.89883 to 0.91051, saving model to bestomodelo.h5\n",
      "73/73 [==============================] - 147s 2s/step - loss: 0.3959 - accuracy: 0.8489 - val_loss: 0.2142 - val_accuracy: 0.9105 - lr: 0.0010\n",
      "Epoch 3/50\n",
      "73/73 [==============================] - ETA: 0s - loss: 0.3345 - accuracy: 0.8792\n",
      "Epoch 3: val_accuracy did not improve from 0.91051\n",
      "73/73 [==============================] - 107s 1s/step - loss: 0.3345 - accuracy: 0.8792 - val_loss: 0.3003 - val_accuracy: 0.8872 - lr: 0.0010\n",
      "Epoch 4/50\n",
      "73/73 [==============================] - ETA: 0s - loss: 0.2799 - accuracy: 0.9030\n",
      "Epoch 4: val_accuracy improved from 0.91051 to 0.96109, saving model to bestomodelo.h5\n",
      "73/73 [==============================] - 111s 2s/step - loss: 0.2799 - accuracy: 0.9030 - val_loss: 0.1051 - val_accuracy: 0.9611 - lr: 0.0010\n",
      "Epoch 5/50\n",
      "73/73 [==============================] - ETA: 0s - loss: 0.1681 - accuracy: 0.9385\n",
      "Epoch 5: val_accuracy improved from 0.96109 to 0.96887, saving model to bestomodelo.h5\n",
      "73/73 [==============================] - 112s 2s/step - loss: 0.1681 - accuracy: 0.9385 - val_loss: 0.0815 - val_accuracy: 0.9689 - lr: 0.0010\n",
      "Epoch 6/50\n",
      "73/73 [==============================] - ETA: 0s - loss: 0.0905 - accuracy: 0.9693\n",
      "Epoch 6: val_accuracy improved from 0.96887 to 0.98054, saving model to bestomodelo.h5\n",
      "73/73 [==============================] - 110s 2s/step - loss: 0.0905 - accuracy: 0.9693 - val_loss: 0.0391 - val_accuracy: 0.9805 - lr: 0.0010\n",
      "Epoch 7/50\n",
      "73/73 [==============================] - ETA: 0s - loss: 0.0547 - accuracy: 0.9822\n",
      "Epoch 7: val_accuracy improved from 0.98054 to 0.98444, saving model to bestomodelo.h5\n",
      "73/73 [==============================] - 138s 2s/step - loss: 0.0547 - accuracy: 0.9822 - val_loss: 0.0363 - val_accuracy: 0.9844 - lr: 0.0010\n",
      "Epoch 8/50\n",
      "73/73 [==============================] - ETA: 0s - loss: 0.0424 - accuracy: 0.9900\n",
      "Epoch 8: val_accuracy did not improve from 0.98444\n",
      "73/73 [==============================] - 108s 1s/step - loss: 0.0424 - accuracy: 0.9900 - val_loss: 0.0217 - val_accuracy: 0.9844 - lr: 0.0010\n",
      "Epoch 9/50\n",
      "73/73 [==============================] - ETA: 0s - loss: 0.0352 - accuracy: 0.9900\n",
      "Epoch 9: val_accuracy did not improve from 0.98444\n",
      "\n",
      "Epoch 9: ReduceLROnPlateau reducing learning rate to 0.0003000000142492354.\n",
      "73/73 [==============================] - 109s 1s/step - loss: 0.0352 - accuracy: 0.9900 - val_loss: 0.0479 - val_accuracy: 0.9844 - lr: 0.0010\n",
      "Epoch 10/50\n",
      "73/73 [==============================] - ETA: 0s - loss: 0.0239 - accuracy: 0.9913\n",
      "Epoch 10: val_accuracy improved from 0.98444 to 0.98833, saving model to bestomodelo.h5\n",
      "73/73 [==============================] - 113s 2s/step - loss: 0.0239 - accuracy: 0.9913 - val_loss: 0.0348 - val_accuracy: 0.9883 - lr: 3.0000e-04\n",
      "Epoch 11/50\n",
      "73/73 [==============================] - ETA: 0s - loss: 0.0237 - accuracy: 0.9939\n",
      "Epoch 11: val_accuracy improved from 0.98833 to 0.99222, saving model to bestomodelo.h5\n",
      "73/73 [==============================] - 109s 1s/step - loss: 0.0237 - accuracy: 0.9939 - val_loss: 0.0299 - val_accuracy: 0.9922 - lr: 3.0000e-04\n",
      "Epoch 12/50\n",
      "73/73 [==============================] - ETA: 0s - loss: 0.0170 - accuracy: 0.9948\n",
      "Epoch 12: val_accuracy did not improve from 0.99222\n",
      "73/73 [==============================] - 108s 1s/step - loss: 0.0170 - accuracy: 0.9948 - val_loss: 0.0284 - val_accuracy: 0.9922 - lr: 3.0000e-04\n",
      "Epoch 13/50\n",
      "73/73 [==============================] - ETA: 0s - loss: 0.0087 - accuracy: 0.9974\n",
      "Epoch 13: val_accuracy did not improve from 0.99222\n",
      "\n",
      "Epoch 13: ReduceLROnPlateau reducing learning rate to 9.000000427477062e-05.\n",
      "73/73 [==============================] - 133s 2s/step - loss: 0.0087 - accuracy: 0.9974 - val_loss: 0.0257 - val_accuracy: 0.9922 - lr: 3.0000e-04\n",
      "Epoch 14/50\n",
      "73/73 [==============================] - ETA: 0s - loss: 0.0057 - accuracy: 0.9991\n",
      "Epoch 14: val_accuracy did not improve from 0.99222\n",
      "73/73 [==============================] - 112s 2s/step - loss: 0.0057 - accuracy: 0.9991 - val_loss: 0.0293 - val_accuracy: 0.9922 - lr: 9.0000e-05\n",
      "Epoch 15/50\n",
      "73/73 [==============================] - ETA: 0s - loss: 0.0103 - accuracy: 0.9974\n",
      "Epoch 15: val_accuracy did not improve from 0.99222\n",
      "\n",
      "Epoch 15: ReduceLROnPlateau reducing learning rate to 2.700000040931627e-05.\n",
      "73/73 [==============================] - 110s 2s/step - loss: 0.0103 - accuracy: 0.9974 - val_loss: 0.0277 - val_accuracy: 0.9922 - lr: 9.0000e-05\n",
      "Epoch 16/50\n",
      "73/73 [==============================] - ETA: 0s - loss: 0.0032 - accuracy: 0.9996\n",
      "Epoch 16: val_accuracy did not improve from 0.99222\n",
      "73/73 [==============================] - 111s 2s/step - loss: 0.0032 - accuracy: 0.9996 - val_loss: 0.0269 - val_accuracy: 0.9922 - lr: 2.7000e-05\n",
      "Epoch 17/50\n",
      "73/73 [==============================] - ETA: 0s - loss: 0.0035 - accuracy: 0.9996\n",
      "Epoch 17: val_accuracy did not improve from 0.99222\n",
      "\n",
      "Epoch 17: ReduceLROnPlateau reducing learning rate to 8.100000013655517e-06.\n",
      "73/73 [==============================] - 109s 1s/step - loss: 0.0035 - accuracy: 0.9996 - val_loss: 0.0267 - val_accuracy: 0.9922 - lr: 2.7000e-05\n",
      "Epoch 18/50\n",
      "73/73 [==============================] - ETA: 0s - loss: 0.0098 - accuracy: 0.9983\n",
      "Epoch 18: val_accuracy did not improve from 0.99222\n",
      "73/73 [==============================] - 110s 2s/step - loss: 0.0098 - accuracy: 0.9983 - val_loss: 0.0266 - val_accuracy: 0.9922 - lr: 8.1000e-06\n",
      "Epoch 19/50\n",
      "73/73 [==============================] - ETA: 0s - loss: 0.0035 - accuracy: 1.0000\n",
      "Epoch 19: val_accuracy did not improve from 0.99222\n",
      "\n",
      "Epoch 19: ReduceLROnPlateau reducing learning rate to 2.429999949526973e-06.\n",
      "73/73 [==============================] - 152s 2s/step - loss: 0.0035 - accuracy: 1.0000 - val_loss: 0.0264 - val_accuracy: 0.9922 - lr: 8.1000e-06\n",
      "Epoch 20/50\n",
      "73/73 [==============================] - ETA: 0s - loss: 0.0097 - accuracy: 0.9978\n",
      "Epoch 20: val_accuracy did not improve from 0.99222\n",
      "73/73 [==============================] - 124s 2s/step - loss: 0.0097 - accuracy: 0.9978 - val_loss: 0.0263 - val_accuracy: 0.9922 - lr: 2.4300e-06\n",
      "Epoch 21/50\n",
      "73/73 [==============================] - ETA: 0s - loss: 0.0037 - accuracy: 0.9996\n",
      "Epoch 21: val_accuracy did not improve from 0.99222\n",
      "\n",
      "Epoch 21: ReduceLROnPlateau reducing learning rate to 7.289999985005124e-07.\n",
      "73/73 [==============================] - 123s 2s/step - loss: 0.0037 - accuracy: 0.9996 - val_loss: 0.0263 - val_accuracy: 0.9922 - lr: 2.4300e-06\n",
      "Epoch 22/50\n",
      "73/73 [==============================] - ETA: 0s - loss: 0.0041 - accuracy: 0.9996\n",
      "Epoch 22: val_accuracy did not improve from 0.99222\n",
      "73/73 [==============================] - 121s 2s/step - loss: 0.0041 - accuracy: 0.9996 - val_loss: 0.0262 - val_accuracy: 0.9922 - lr: 7.2900e-07\n",
      "Epoch 23/50\n",
      "73/73 [==============================] - ETA: 0s - loss: 0.0033 - accuracy: 0.9996\n",
      "Epoch 23: val_accuracy did not improve from 0.99222\n",
      "\n",
      "Epoch 23: ReduceLROnPlateau reducing learning rate to 2.1870000637136398e-07.\n",
      "73/73 [==============================] - 118s 2s/step - loss: 0.0033 - accuracy: 0.9996 - val_loss: 0.0262 - val_accuracy: 0.9922 - lr: 7.2900e-07\n",
      "Epoch 24/50\n",
      "73/73 [==============================] - ETA: 0s - loss: 0.0046 - accuracy: 0.9978\n",
      "Epoch 24: val_accuracy did not improve from 0.99222\n",
      "73/73 [==============================] - 149s 2s/step - loss: 0.0046 - accuracy: 0.9978 - val_loss: 0.0262 - val_accuracy: 0.9922 - lr: 2.1870e-07\n",
      "Epoch 25/50\n",
      "73/73 [==============================] - ETA: 0s - loss: 0.0075 - accuracy: 0.9991\n",
      "Epoch 25: val_accuracy did not improve from 0.99222\n",
      "\n",
      "Epoch 25: ReduceLROnPlateau reducing learning rate to 6.561000276406048e-08.\n",
      "73/73 [==============================] - 118s 2s/step - loss: 0.0075 - accuracy: 0.9991 - val_loss: 0.0262 - val_accuracy: 0.9922 - lr: 2.1870e-07\n",
      "Epoch 26/50\n",
      "73/73 [==============================] - ETA: 0s - loss: 0.0073 - accuracy: 0.9983\n",
      "Epoch 26: val_accuracy did not improve from 0.99222\n",
      "73/73 [==============================] - 119s 2s/step - loss: 0.0073 - accuracy: 0.9983 - val_loss: 0.0262 - val_accuracy: 0.9922 - lr: 6.5610e-08\n",
      "Epoch 27/50\n",
      "73/73 [==============================] - ETA: 0s - loss: 0.0069 - accuracy: 0.9991\n",
      "Epoch 27: val_accuracy did not improve from 0.99222\n",
      "\n",
      "Epoch 27: ReduceLROnPlateau reducing learning rate to 1.9683000829218145e-08.\n",
      "73/73 [==============================] - 120s 2s/step - loss: 0.0069 - accuracy: 0.9991 - val_loss: 0.0262 - val_accuracy: 0.9922 - lr: 6.5610e-08\n",
      "Epoch 28/50\n",
      "73/73 [==============================] - ETA: 0s - loss: 0.0063 - accuracy: 0.9991\n",
      "Epoch 28: val_accuracy did not improve from 0.99222\n",
      "73/73 [==============================] - 122s 2s/step - loss: 0.0063 - accuracy: 0.9991 - val_loss: 0.0262 - val_accuracy: 0.9922 - lr: 1.9683e-08\n",
      "Epoch 29/50\n",
      "73/73 [==============================] - ETA: 0s - loss: 0.0037 - accuracy: 0.9987\n",
      "Epoch 29: val_accuracy did not improve from 0.99222\n",
      "\n",
      "Epoch 29: ReduceLROnPlateau reducing learning rate to 5.904900035602622e-09.\n",
      "73/73 [==============================] - 148s 2s/step - loss: 0.0037 - accuracy: 0.9987 - val_loss: 0.0262 - val_accuracy: 0.9922 - lr: 1.9683e-08\n",
      "Epoch 30/50\n",
      "73/73 [==============================] - ETA: 0s - loss: 0.0041 - accuracy: 0.9991\n",
      "Epoch 30: val_accuracy did not improve from 0.99222\n",
      "73/73 [==============================] - 121s 2s/step - loss: 0.0041 - accuracy: 0.9991 - val_loss: 0.0262 - val_accuracy: 0.9922 - lr: 5.9049e-09\n",
      "Epoch 31/50\n",
      "73/73 [==============================] - ETA: 0s - loss: 0.0051 - accuracy: 0.9983\n",
      "Epoch 31: val_accuracy did not improve from 0.99222\n",
      "\n",
      "Epoch 31: ReduceLROnPlateau reducing learning rate to 1.7714700373261393e-09.\n",
      "73/73 [==============================] - 121s 2s/step - loss: 0.0051 - accuracy: 0.9983 - val_loss: 0.0262 - val_accuracy: 0.9922 - lr: 5.9049e-09\n",
      "Epoch 32/50\n",
      "73/73 [==============================] - ETA: 0s - loss: 0.0065 - accuracy: 0.9978\n",
      "Epoch 32: val_accuracy did not improve from 0.99222\n",
      "73/73 [==============================] - 120s 2s/step - loss: 0.0065 - accuracy: 0.9978 - val_loss: 0.0262 - val_accuracy: 0.9922 - lr: 1.7715e-09\n",
      "Epoch 33/50\n",
      "73/73 [==============================] - ETA: 0s - loss: 0.0082 - accuracy: 0.9983\n",
      "Epoch 33: val_accuracy did not improve from 0.99222\n",
      "\n",
      "Epoch 33: ReduceLROnPlateau reducing learning rate to 5.314410245205181e-10.\n",
      "73/73 [==============================] - 118s 2s/step - loss: 0.0082 - accuracy: 0.9983 - val_loss: 0.0262 - val_accuracy: 0.9922 - lr: 1.7715e-09\n",
      "Epoch 34/50\n",
      "73/73 [==============================] - ETA: 0s - loss: 0.0055 - accuracy: 0.9983\n",
      "Epoch 34: val_accuracy did not improve from 0.99222\n",
      "73/73 [==============================] - 121s 2s/step - loss: 0.0055 - accuracy: 0.9983 - val_loss: 0.0262 - val_accuracy: 0.9922 - lr: 5.3144e-10\n",
      "Epoch 35/50\n",
      "73/73 [==============================] - ETA: 0s - loss: 0.0087 - accuracy: 0.9983\n",
      "Epoch 35: val_accuracy did not improve from 0.99222\n",
      "\n",
      "Epoch 35: ReduceLROnPlateau reducing learning rate to 1.5943230069481729e-10.\n",
      "73/73 [==============================] - 145s 2s/step - loss: 0.0087 - accuracy: 0.9983 - val_loss: 0.0262 - val_accuracy: 0.9922 - lr: 5.3144e-10\n",
      "Epoch 36/50\n",
      "73/73 [==============================] - ETA: 0s - loss: 0.0033 - accuracy: 0.9996\n",
      "Epoch 36: val_accuracy did not improve from 0.99222\n",
      "73/73 [==============================] - 117s 2s/step - loss: 0.0033 - accuracy: 0.9996 - val_loss: 0.0262 - val_accuracy: 0.9922 - lr: 1.5943e-10\n",
      "Epoch 37/50\n",
      "73/73 [==============================] - ETA: 0s - loss: 0.0036 - accuracy: 0.9991\n",
      "Epoch 37: val_accuracy did not improve from 0.99222\n",
      "\n",
      "Epoch 37: ReduceLROnPlateau reducing learning rate to 4.7829690208445185e-11.\n",
      "73/73 [==============================] - 118s 2s/step - loss: 0.0036 - accuracy: 0.9991 - val_loss: 0.0262 - val_accuracy: 0.9922 - lr: 1.5943e-10\n",
      "Epoch 38/50\n",
      "73/73 [==============================] - ETA: 0s - loss: 0.0049 - accuracy: 0.9987\n",
      "Epoch 38: val_accuracy did not improve from 0.99222\n",
      "73/73 [==============================] - 125s 2s/step - loss: 0.0049 - accuracy: 0.9987 - val_loss: 0.0262 - val_accuracy: 0.9922 - lr: 4.7830e-11\n",
      "Epoch 39/50\n",
      "73/73 [==============================] - ETA: 0s - loss: 0.0043 - accuracy: 0.9987\n",
      "Epoch 39: val_accuracy did not improve from 0.99222\n",
      "\n",
      "Epoch 39: ReduceLROnPlateau reducing learning rate to 1.434890747886719e-11.\n",
      "73/73 [==============================] - 118s 2s/step - loss: 0.0043 - accuracy: 0.9987 - val_loss: 0.0262 - val_accuracy: 0.9922 - lr: 4.7830e-11\n",
      "Epoch 40/50\n",
      "73/73 [==============================] - ETA: 0s - loss: 0.0039 - accuracy: 0.9996\n",
      "Epoch 40: val_accuracy did not improve from 0.99222\n",
      "73/73 [==============================] - 153s 2s/step - loss: 0.0039 - accuracy: 0.9996 - val_loss: 0.0262 - val_accuracy: 0.9922 - lr: 1.4349e-11\n",
      "Epoch 41/50\n",
      "73/73 [==============================] - ETA: 0s - loss: 0.0031 - accuracy: 0.9996\n",
      "Epoch 41: val_accuracy did not improve from 0.99222\n",
      "\n",
      "Epoch 41: ReduceLROnPlateau reducing learning rate to 4.304672243660157e-12.\n",
      "73/73 [==============================] - 123s 2s/step - loss: 0.0031 - accuracy: 0.9996 - val_loss: 0.0262 - val_accuracy: 0.9922 - lr: 1.4349e-11\n",
      "Epoch 42/50\n",
      "73/73 [==============================] - ETA: 0s - loss: 0.0045 - accuracy: 0.9996\n",
      "Epoch 42: val_accuracy did not improve from 0.99222\n",
      "73/73 [==============================] - 125s 2s/step - loss: 0.0045 - accuracy: 0.9996 - val_loss: 0.0262 - val_accuracy: 0.9922 - lr: 4.3047e-12\n",
      "Epoch 43/50\n",
      "73/73 [==============================] - ETA: 0s - loss: 0.0091 - accuracy: 0.9983\n",
      "Epoch 43: val_accuracy did not improve from 0.99222\n",
      "\n",
      "Epoch 43: ReduceLROnPlateau reducing learning rate to 1.2914016210563428e-12.\n",
      "73/73 [==============================] - 121s 2s/step - loss: 0.0091 - accuracy: 0.9983 - val_loss: 0.0262 - val_accuracy: 0.9922 - lr: 4.3047e-12\n",
      "Epoch 44/50\n",
      "73/73 [==============================] - ETA: 0s - loss: 0.0041 - accuracy: 0.9987\n",
      "Epoch 44: val_accuracy did not improve from 0.99222\n",
      "73/73 [==============================] - 119s 2s/step - loss: 0.0041 - accuracy: 0.9987 - val_loss: 0.0262 - val_accuracy: 0.9922 - lr: 1.2914e-12\n",
      "Epoch 45/50\n",
      "73/73 [==============================] - ETA: 0s - loss: 0.0048 - accuracy: 0.9983\n",
      "Epoch 45: val_accuracy did not improve from 0.99222\n",
      "\n",
      "Epoch 45: ReduceLROnPlateau reducing learning rate to 3.874204993273289e-13.\n",
      "73/73 [==============================] - 148s 2s/step - loss: 0.0048 - accuracy: 0.9983 - val_loss: 0.0262 - val_accuracy: 0.9922 - lr: 1.2914e-12\n",
      "Epoch 46/50\n",
      "73/73 [==============================] - ETA: 0s - loss: 0.0049 - accuracy: 0.9991\n",
      "Epoch 46: val_accuracy did not improve from 0.99222\n",
      "73/73 [==============================] - 120s 2s/step - loss: 0.0049 - accuracy: 0.9991 - val_loss: 0.0262 - val_accuracy: 0.9922 - lr: 3.8742e-13\n",
      "Epoch 47/50\n",
      "73/73 [==============================] - ETA: 0s - loss: 0.0035 - accuracy: 0.9996\n",
      "Epoch 47: val_accuracy did not improve from 0.99222\n",
      "\n",
      "Epoch 47: ReduceLROnPlateau reducing learning rate to 1.162261530508052e-13.\n",
      "73/73 [==============================] - 119s 2s/step - loss: 0.0035 - accuracy: 0.9996 - val_loss: 0.0262 - val_accuracy: 0.9922 - lr: 3.8742e-13\n",
      "Epoch 48/50\n",
      "73/73 [==============================] - ETA: 0s - loss: 0.0041 - accuracy: 0.9987\n",
      "Epoch 48: val_accuracy did not improve from 0.99222\n",
      "73/73 [==============================] - 118s 2s/step - loss: 0.0041 - accuracy: 0.9987 - val_loss: 0.0262 - val_accuracy: 0.9922 - lr: 1.1623e-13\n",
      "Epoch 49/50\n",
      "73/73 [==============================] - ETA: 0s - loss: 0.0035 - accuracy: 0.9987\n",
      "Epoch 49: val_accuracy did not improve from 0.99222\n",
      "\n",
      "Epoch 49: ReduceLROnPlateau reducing learning rate to 3.4867844288938296e-14.\n",
      "73/73 [==============================] - 117s 2s/step - loss: 0.0035 - accuracy: 0.9987 - val_loss: 0.0262 - val_accuracy: 0.9922 - lr: 1.1623e-13\n",
      "Epoch 50/50\n",
      "73/73 [==============================] - ETA: 0s - loss: 0.0043 - accuracy: 0.9991\n",
      "Epoch 50: val_accuracy did not improve from 0.99222\n",
      "73/73 [==============================] - 123s 2s/step - loss: 0.0043 - accuracy: 0.9991 - val_loss: 0.0262 - val_accuracy: 0.9922 - lr: 3.4868e-14\n"
     ]
    }
   ],
   "source": [
    "history = model.fit(X_train_features, y_train, validation_split=0.1, epochs=50, verbose=1, batch_size=32,\n",
    "                    callbacks=[tensorboard, checkpoint, reduce_lr])"
   ]
  },
  {
   "cell_type": "markdown",
   "metadata": {},
   "source": [
    "# **\"Training and Validation Accuracy/Loss Over Epochs\"**"
   ]
  },
  {
   "cell_type": "code",
   "execution_count": 25,
   "metadata": {
    "execution": {
     "iopub.execute_input": "2023-12-15T01:56:32.735890Z",
     "iopub.status.busy": "2023-12-15T01:56:32.735457Z",
     "iopub.status.idle": "2023-12-15T01:56:33.320168Z",
     "shell.execute_reply": "2023-12-15T01:56:33.318163Z",
     "shell.execute_reply.started": "2023-12-15T01:56:32.735857Z"
    }
   },
   "outputs": [
    {
     "data": {
      "image/png": "[encoded data removed]",
      "text/plain": [
       "<Figure size 1400x700 with 2 Axes>"
      ]
     },
     "metadata": {},
     "output_type": "display_data"
    }
   ],
   "source": [
    "\n",
    "filterwarnings('ignore')\n",
    "\n",
    "epochs = range(1, 51)  # Assuming the training was done for 50 epochs\n",
    "fig, ax = plt.subplots(1, 2, figsize=(14, 7))\n",
    "\n",
    "train_acc = history.history['accuracy']\n",
    "train_loss = history.history['loss']\n",
    "val_acc = history.history['val_accuracy']\n",
    "val_loss = history.history['val_loss']\n",
    "\n",
    "fig.text(s='Epochs vs. Training and Validation Accuracy/Loss', size=18, fontweight='bold',\n",
    "         fontname='monospace', color=colors_dark[1], y=1, x=0.28, alpha=0.8)\n",
    "\n",
    "sns.despine()\n",
    "\n",
    "ax[0].plot(epochs, train_acc, marker='o', markerfacecolor=colors_green[2], color=colors_green[3],\n",
    "           label='Training Accuracy')\n",
    "ax[0].plot(epochs, val_acc, marker='o', markerfacecolor=colors_red[2], color=colors_red[3],\n",
    "           label='Validation Accuracy')\n",
    "ax[0].legend(frameon=False)\n",
    "ax[0].set_xlabel('Epochs')\n",
    "ax[0].set_ylabel('Accuracy')\n",
    "\n",
    "sns.despine()\n",
    "\n",
    "ax[1].plot(epochs, train_loss, marker='o', markerfacecolor=colors_green[2], color=colors_green[3],\n",
    "           label='Training Loss')\n",
    "ax[1].plot(epochs, val_loss, marker='o', markerfacecolor=colors_red[2], color=colors_red[3],\n",
    "           label='Validation Loss')\n",
    "ax[1].legend(frameon=False)\n",
    "ax[1].set_xlabel('Epochs')\n",
    "ax[1].set_ylabel('Training & Validation Loss')\n",
    "\n",
    "fig.show()"
   ]
  },
  {
   "cell_type": "markdown",
   "metadata": {},
   "source": [
    "# **\"Model Evaluation on Test Set: Accuracy and Loss\"**"
   ]
  },
  {
   "cell_type": "code",
   "execution_count": 26,
   "metadata": {
    "execution": {
     "iopub.execute_input": "2023-12-15T02:10:44.804357Z",
     "iopub.status.busy": "2023-12-15T02:10:44.803868Z",
     "iopub.status.idle": "2023-12-15T02:10:46.583915Z",
     "shell.execute_reply": "2023-12-15T02:10:46.582670Z",
     "shell.execute_reply.started": "2023-12-15T02:10:44.804321Z"
    }
   },
   "outputs": [
    {
     "name": "stdout",
     "output_type": "stream",
     "text": [
      "Test Accuracy: 0.9930, Test Loss: 0.0282\n"
     ]
    }
   ],
   "source": [
    "test_loss, test_accuracy = model.evaluate(X_test_features, y_test, verbose=0)\n",
    "print(f'Test Accuracy: {test_accuracy:.4f}, Test Loss: {test_loss:.4f}')\n",
    "\n",
    "fig.suptitle(f'Test Accuracy: {test_accuracy:.4f}, Test Loss: {test_loss:.4f}', size=16, y=1.05)\n",
    "\n",
    "fig.show()"
   ]
  },
  {
   "cell_type": "markdown",
   "metadata": {},
   "source": [
    "# **Evaluate the model on the test set**"
   ]
  },
  {
   "cell_type": "code",
   "execution_count": 28,
   "metadata": {
    "execution": {
     "iopub.execute_input": "2023-12-15T02:16:14.403630Z",
     "iopub.status.busy": "2023-12-15T02:16:14.403092Z",
     "iopub.status.idle": "2023-12-15T02:16:16.181368Z",
     "shell.execute_reply": "2023-12-15T02:16:16.179759Z",
     "shell.execute_reply.started": "2023-12-15T02:16:14.403592Z"
    }
   },
   "outputs": [
    {
     "name": "stdout",
     "output_type": "stream",
     "text": [
      "Test Accuracy: 0.9930, Test Loss: 0.0282\n"
     ]
    },
    {
     "data": {
      "image/png": "[encoded data removed]",
      "text/plain": [
       "<Figure size 800x600 with 1 Axes>"
      ]
     },
     "metadata": {},
     "output_type": "display_data"
    }
   ],
   "source": [
    "# Evaluate the model on the test set\n",
    "test_loss, test_accuracy = model.evaluate(X_test_features, y_test, verbose=0)\n",
    "print(f'Test Accuracy: {test_accuracy:.4f}, Test Loss: {test_loss:.4f}')\n",
    "\n",
    "# Plotting test accuracy and loss\n",
    "fig, ax = plt.subplots(figsize=(8, 6))\n",
    "\n",
    "# Plotting test accuracy\n",
    "ax.plot(epochs, val_acc, marker='o', label='Validation Accuracy', color=colors_red[3])\n",
    "\n",
    "# Plotting test loss\n",
    "ax.plot(epochs, val_loss, marker='o', label='Validation Loss', color=colors_green[3])\n",
    "\n",
    "# Highlight the test accuracy and loss\n",
    "ax.scatter(len(epochs), test_accuracy, color=colors_red[1], marker='*', s=200, label='Test Accuracy')\n",
    "ax.scatter(len(epochs), test_loss, color=colors_green[1], marker='*', s=200, label='Test Loss')\n",
    "\n",
    "# Set labels and title\n",
    "ax.set_xlabel('Epochs')\n",
    "ax.set_ylabel('Accuracy / Loss')\n",
    "ax.set_title('Test Set Performance: Accuracy and Loss')\n",
    "\n",
    "# Show legend\n",
    "ax.legend()\n",
    "\n",
    "plt.show()\n"
   ]
  },
  {
   "cell_type": "markdown",
   "metadata": {},
   "source": [
    "# **\"Heatmap of Confusion Matrix for Binary Brain Tumor Classification\"**"
   ]
  },
  {
   "cell_type": "code",
   "execution_count": 34,
   "metadata": {
    "execution": {
     "iopub.execute_input": "2023-12-15T03:55:05.058264Z",
     "iopub.status.busy": "2023-12-15T03:55:05.057862Z",
     "iopub.status.idle": "2023-12-15T03:55:07.992846Z",
     "shell.execute_reply": "2023-12-15T03:55:07.991659Z",
     "shell.execute_reply.started": "2023-12-15T03:55:05.058236Z"
    }
   },
   "outputs": [
    {
     "name": "stdout",
     "output_type": "stream",
     "text": [
      "9/9 [==============================] - 1s 145ms/step\n"
     ]
    },
    {
     "data": {
      "image/png": "[encoded data removed]",
      "text/plain": [
       "<Figure size 800x600 with 1 Axes>"
      ]
     },
     "metadata": {},
     "output_type": "display_data"
    }
   ],
   "source": [
    "import matplotlib.pyplot as plt\n",
    "import seaborn as sns\n",
    "from sklearn.metrics import confusion_matrix\n",
    "from sklearn.utils import shuffle\n",
    "import numpy as np\n",
    "import tensorflow as tf\n",
    "\n",
    "# Assuming pred is the predictions made by your model on the test set\n",
    "# It should be a binary array (0 or 1)\n",
    "pred = model.predict(X_test_features)\n",
    "pred = np.round(pred).flatten()\n",
    "\n",
    "# Convert one-hot encoded labels back to original labels\n",
    "y_true = y_test\n",
    "\n",
    "# Compute confusion matrix\n",
    "conf_matrix = confusion_matrix(y_true, pred)\n",
    "\n",
    "# Plot heatmap\n",
    "fig, ax = plt.subplots(figsize=(8, 6))\n",
    "sns.heatmap(conf_matrix, ax=ax, annot=True, fmt='d', cmap='Blues', cbar=False, xticklabels=labels, yticklabels=labels)\n",
    "ax.set_xlabel('Predicted labels')\n",
    "ax.set_ylabel('True labels')\n",
    "ax.set_title('Heatmap of Confusion Matrix for Binary Brain Tumor Classification')\n",
    "\n",
    "# Display the heatmap\n",
    "plt.show()\n"
   ]
  }
 ],
 "metadata": {
  "kaggle": {
   "accelerator": "none",
   "dataSources": [
    {
     "datasetId": 672377,
     "sourceId": 1183165,
     "sourceType": "datasetVersion"
    }
   ],
   "dockerImageVersionId": 30626,
   "isGpuEnabled": false,
   "isInternetEnabled": true,
   "language": "python",
   "sourceType": "notebook"
  },
  "kernelspec": {
   "display_name": "Python 3 (ipykernel)",
   "language": "python",
   "name": "python3"
  },
  "language_info": {
   "codemirror_mode": {
    "name": "ipython",
    "version": 3
   },
   "file_extension": ".py",
   "mimetype": "text/x-python",
   "name": "python",
   "nbconvert_exporter": "python",
   "pygments_lexer": "ipython3",
   "version": "3.11.5"
  }
 },
 "nbformat": 4,
 "nbformat_minor": 4
}
